{
 "cells": [
  {
   "cell_type": "code",
   "id": "initial_id",
   "metadata": {
    "collapsed": true,
    "ExecuteTime": {
     "end_time": "2025-07-16T22:34:00.790297Z",
     "start_time": "2025-07-16T22:34:00.780106Z"
    }
   },
   "source": [
    "from dotenv import load_dotenv\n",
    "\n",
    "load_dotenv()"
   ],
   "outputs": [
    {
     "data": {
      "text/plain": [
       "True"
      ]
     },
     "execution_count": 1,
     "metadata": {},
     "output_type": "execute_result"
    }
   ],
   "execution_count": 1
  },
  {
   "metadata": {
    "ExecuteTime": {
     "end_time": "2025-07-16T22:34:01.904384Z",
     "start_time": "2025-07-16T22:34:00.958984Z"
    }
   },
   "cell_type": "code",
   "source": [
    "from langchain_openai import ChatOpenAI\n",
    "\n",
    "llm = ChatOpenAI(model=\"gpt-4o\")\n",
    "small_llm = ChatOpenAI(model=\"gpt-4o-mini\")"
   ],
   "id": "f182d3f076322886",
   "outputs": [],
   "execution_count": 2
  },
  {
   "metadata": {
    "ExecuteTime": {
     "end_time": "2025-07-16T22:34:01.935087Z",
     "start_time": "2025-07-16T22:34:01.919518Z"
    }
   },
   "cell_type": "code",
   "source": [
    "from langchain_core.tools import tool\n",
    "\n",
    "@tool\n",
    "def add(a : int, b : int) -> int:\n",
    "    \"\"\"숫자 a와 b를 더합니다.\"\"\"\n",
    "    return a + b\n",
    "\n",
    "@tool\n",
    "def multiply(a : int, b : int) -> int:\n",
    "    \"\"\"숫자 a와 b를 곱합니다.\"\"\"\n",
    "    return a * b"
   ],
   "id": "cd8c04a55ec0085a",
   "outputs": [],
   "execution_count": 3
  },
  {
   "metadata": {
    "ExecuteTime": {
     "end_time": "2025-07-16T22:34:01.973708Z",
     "start_time": "2025-07-16T22:34:01.965412Z"
    }
   },
   "cell_type": "code",
   "source": [
    "# tool 데코레이트 함수를 수행하는 방법\n",
    "add.invoke({'a' : 1, 'b' : 2})"
   ],
   "id": "2452677e0f47d25",
   "outputs": [
    {
     "data": {
      "text/plain": [
       "3"
      ]
     },
     "execution_count": 4,
     "metadata": {},
     "output_type": "execute_result"
    }
   ],
   "execution_count": 4
  },
  {
   "metadata": {
    "ExecuteTime": {
     "end_time": "2025-07-16T22:34:02.026632Z",
     "start_time": "2025-07-16T22:34:02.019065Z"
    }
   },
   "cell_type": "code",
   "source": "llm_with_tools = llm.bind_tools([add, multiply])",
   "id": "9295b3c9f20444d1",
   "outputs": [],
   "execution_count": 5
  },
  {
   "metadata": {
    "ExecuteTime": {
     "end_time": "2025-07-16T22:34:02.076085Z",
     "start_time": "2025-07-16T22:34:02.073601Z"
    }
   },
   "cell_type": "code",
   "source": "query = '3 곱하기 5는?'",
   "id": "2f551b5be6b40b8c",
   "outputs": [],
   "execution_count": 6
  },
  {
   "metadata": {
    "ExecuteTime": {
     "end_time": "2025-07-16T22:34:02.833644Z",
     "start_time": "2025-07-16T22:34:02.140855Z"
    }
   },
   "cell_type": "code",
   "source": [
    "# tool 없이 llm으로 질의했을 때\n",
    "small_llm.invoke(query)"
   ],
   "id": "2d24b2dd0d76b888",
   "outputs": [
    {
     "data": {
      "text/plain": [
       "AIMessage(content='3 곱하기 5는 15입니다.', additional_kwargs={'refusal': None}, response_metadata={'token_usage': {'completion_tokens': 11, 'prompt_tokens': 15, 'total_tokens': 26, 'completion_tokens_details': {'accepted_prediction_tokens': 0, 'audio_tokens': 0, 'reasoning_tokens': 0, 'rejected_prediction_tokens': 0}, 'prompt_tokens_details': {'audio_tokens': 0, 'cached_tokens': 0}}, 'model_name': 'gpt-4o-mini-2024-07-18', 'system_fingerprint': None, 'id': 'chatcmpl-Bu4zKvij6wGz89sUkF4e0aC1l8XsI', 'service_tier': 'default', 'finish_reason': 'stop', 'logprobs': None}, id='run--c7849427-09bd-47fc-91d5-2b49a0046639-0', usage_metadata={'input_tokens': 15, 'output_tokens': 11, 'total_tokens': 26, 'input_token_details': {'audio': 0, 'cache_read': 0}, 'output_token_details': {'audio': 0, 'reasoning': 0}})"
      ]
     },
     "execution_count": 7,
     "metadata": {},
     "output_type": "execute_result"
    }
   ],
   "execution_count": 7
  },
  {
   "metadata": {
    "ExecuteTime": {
     "end_time": "2025-07-16T22:34:09.677234Z",
     "start_time": "2025-07-16T22:34:02.852303Z"
    }
   },
   "cell_type": "code",
   "source": [
    "# tool binding 후 llm으로 질의했을 때\n",
    "result = llm_with_tools.invoke(query)"
   ],
   "id": "b55079fc3ffa54be",
   "outputs": [],
   "execution_count": 8
  },
  {
   "metadata": {
    "ExecuteTime": {
     "end_time": "2025-07-16T22:34:09.693554Z",
     "start_time": "2025-07-16T22:34:09.689691Z"
    }
   },
   "cell_type": "code",
   "source": "result.tool_calls",
   "id": "e5998e75c0fb2c31",
   "outputs": [
    {
     "data": {
      "text/plain": [
       "[{'name': 'multiply',\n",
       "  'args': {'a': 3, 'b': 5},\n",
       "  'id': 'call_2EZtBUfi91bx1pMc12puULve',\n",
       "  'type': 'tool_call'}]"
      ]
     },
     "execution_count": 9,
     "metadata": {},
     "output_type": "execute_result"
    }
   ],
   "execution_count": 9
  },
  {
   "metadata": {
    "ExecuteTime": {
     "end_time": "2025-07-16T22:34:09.749341Z",
     "start_time": "2025-07-16T22:34:09.746215Z"
    }
   },
   "cell_type": "code",
   "source": [
    "from typing import Sequence\n",
    "from langchain_core.messages import AnyMessage, HumanMessage\n",
    "\n",
    "human_message = HumanMessage(query)\n",
    "message_list : Sequence[AnyMessage] = [human_message]"
   ],
   "id": "51e876dae16a9d53",
   "outputs": [],
   "execution_count": 10
  },
  {
   "metadata": {
    "ExecuteTime": {
     "end_time": "2025-07-16T22:34:11.007846Z",
     "start_time": "2025-07-16T22:34:09.801399Z"
    }
   },
   "cell_type": "code",
   "source": "ai_message = llm_with_tools.invoke(message_list)",
   "id": "38b3b95ab561e574",
   "outputs": [],
   "execution_count": 11
  },
  {
   "metadata": {
    "ExecuteTime": {
     "end_time": "2025-07-16T22:34:11.023638Z",
     "start_time": "2025-07-16T22:34:11.020196Z"
    }
   },
   "cell_type": "code",
   "source": "ai_message.tool_calls",
   "id": "72d0415f8c6d9e81",
   "outputs": [
    {
     "data": {
      "text/plain": [
       "[{'name': 'multiply',\n",
       "  'args': {'a': 3, 'b': 5},\n",
       "  'id': 'call_It1jTgxRqdh73XAj47CT1RkQ',\n",
       "  'type': 'tool_call'}]"
      ]
     },
     "execution_count": 12,
     "metadata": {},
     "output_type": "execute_result"
    }
   ],
   "execution_count": 12
  },
  {
   "metadata": {
    "ExecuteTime": {
     "end_time": "2025-07-16T22:34:11.074444Z",
     "start_time": "2025-07-16T22:34:11.071531Z"
    }
   },
   "cell_type": "code",
   "source": "message_list.append(ai_message)",
   "id": "495349d896018aa4",
   "outputs": [],
   "execution_count": 13
  },
  {
   "metadata": {
    "ExecuteTime": {
     "end_time": "2025-07-16T22:34:11.126727Z",
     "start_time": "2025-07-16T22:34:11.123657Z"
    }
   },
   "cell_type": "code",
   "source": "tool_message = multiply.invoke(ai_message.tool_calls[0])",
   "id": "ce274980bc528a57",
   "outputs": [],
   "execution_count": 14
  },
  {
   "metadata": {
    "ExecuteTime": {
     "end_time": "2025-07-16T22:34:11.177070Z",
     "start_time": "2025-07-16T22:34:11.174529Z"
    }
   },
   "cell_type": "code",
   "source": "message_list.append(tool_message)",
   "id": "67318bfdcc56e93f",
   "outputs": [],
   "execution_count": 15
  },
  {
   "metadata": {
    "ExecuteTime": {
     "end_time": "2025-07-16T22:34:11.930123Z",
     "start_time": "2025-07-16T22:34:11.225311Z"
    }
   },
   "cell_type": "code",
   "source": "llm_with_tools.invoke(message_list)",
   "id": "79f4e0f1014cab35",
   "outputs": [
    {
     "data": {
      "text/plain": [
       "AIMessage(content='3 곱하기 5는 15입니다.', additional_kwargs={'refusal': None}, response_metadata={'token_usage': {'completion_tokens': 12, 'prompt_tokens': 109, 'total_tokens': 121, 'completion_tokens_details': {'accepted_prediction_tokens': 0, 'audio_tokens': 0, 'reasoning_tokens': 0, 'rejected_prediction_tokens': 0}, 'prompt_tokens_details': {'audio_tokens': 0, 'cached_tokens': 0}}, 'model_name': 'gpt-4o-2024-08-06', 'system_fingerprint': None, 'id': 'chatcmpl-Bu4zT4B6miw01646R2x6KLIp7d52w', 'service_tier': 'default', 'finish_reason': 'stop', 'logprobs': None}, id='run--2add5c20-e5d6-413f-a0c1-3deccc41e757-0', usage_metadata={'input_tokens': 109, 'output_tokens': 12, 'total_tokens': 121, 'input_token_details': {'audio': 0, 'cache_read': 0}, 'output_token_details': {'audio': 0, 'reasoning': 0}})"
      ]
     },
     "execution_count": 16,
     "metadata": {},
     "output_type": "execute_result"
    }
   ],
   "execution_count": 16
  }
 ],
 "metadata": {
  "kernelspec": {
   "display_name": "Python 3",
   "language": "python",
   "name": "python3"
  },
  "language_info": {
   "codemirror_mode": {
    "name": "ipython",
    "version": 2
   },
   "file_extension": ".py",
   "mimetype": "text/x-python",
   "name": "python",
   "nbconvert_exporter": "python",
   "pygments_lexer": "ipython2",
   "version": "2.7.6"
  }
 },
 "nbformat": 4,
 "nbformat_minor": 5
}
