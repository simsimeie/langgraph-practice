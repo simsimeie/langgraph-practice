{
 "cells": [
  {
   "metadata": {
    "ExecuteTime": {
     "end_time": "2025-07-07T22:58:18.154645Z",
     "start_time": "2025-07-07T22:58:18.150193Z"
    }
   },
   "cell_type": "code",
   "source": [
    "from dotenv import load_dotenv\n",
    "from langgraph.graph import StateGraph\n",
    "from zmq.decorators import context\n",
    "\n",
    "load_dotenv()"
   ],
   "id": "57f84f1e3c5ca973",
   "outputs": [
    {
     "data": {
      "text/plain": [
       "True"
      ]
     },
     "execution_count": 105,
     "metadata": {},
     "output_type": "execute_result"
    }
   ],
   "execution_count": 105
  },
  {
   "metadata": {
    "ExecuteTime": {
     "end_time": "2025-07-07T22:58:18.208716Z",
     "start_time": "2025-07-07T22:58:18.205924Z"
    }
   },
   "cell_type": "code",
   "source": [
    "# SQLite3 버전 문제 해결: Chroma는 SQLite3 3.35.0 이상이 필요하지만 시스템에는 낮은 버전이 설치되어 있음\n",
    "# pysqlite3-binary를 사용하여 더 높은 버전의 SQLite3을 제공\n",
    "import sys\n",
    "import pysqlite3\n",
    "# 기존 sqlite3 모듈을 pysqlite3으로 대체\n",
    "sys.modules['sqlite3'] = pysqlite3\n",
    "print(f\"Using SQLite version: {pysqlite3.sqlite_version}\")"
   ],
   "id": "8611123bf112eabe",
   "outputs": [
    {
     "name": "stdout",
     "output_type": "stream",
     "text": [
      "Using SQLite version: 3.46.1\n"
     ]
    }
   ],
   "execution_count": 106
  },
  {
   "metadata": {
    "ExecuteTime": {
     "end_time": "2025-07-07T22:58:18.279743Z",
     "start_time": "2025-07-07T22:58:18.259692Z"
    }
   },
   "cell_type": "code",
   "source": [
    "import chromadb\n",
    "from langchain_chroma import Chroma\n",
    "from langchain_openai import OpenAIEmbeddings\n",
    "\n",
    "# ChromaDB 클라이언트를 생성합니다.\n",
    "client = chromadb.PersistentClient(path='./brief')\n",
    "\n",
    "\n",
    "embedding_function = OpenAIEmbeddings(model='text-embedding-3-large')\n",
    "\n",
    "# 컬랙션이 이미 존재할 때는 Chroma 클래스 생성자 사용하여 객체 생성\n",
    "vector_store = Chroma(\n",
    "    client=client,\n",
    "    embedding_function=embedding_function,\n",
    "    collection_name = 'brief'\n",
    ")\n",
    "\n",
    "retriever = vector_store.as_retriever(search_kwargs={\"k\": 3})"
   ],
   "id": "995853abeaaf2cdd",
   "outputs": [
    {
     "name": "stderr",
     "output_type": "stream",
     "text": [
      "Failed to send telemetry event ClientStartEvent: module 'chromadb' has no attribute 'get_settings'\n",
      "Failed to send telemetry event ClientCreateCollectionEvent: module 'chromadb' has no attribute 'get_settings'\n"
     ]
    }
   ],
   "execution_count": 107
  },
  {
   "metadata": {
    "ExecuteTime": {
     "end_time": "2025-07-07T22:58:18.317469Z",
     "start_time": "2025-07-07T22:58:18.314932Z"
    }
   },
   "cell_type": "code",
   "source": [
    "from typing_extensions import List, TypedDict\n",
    "from langchain_core.documents import Document\n",
    "\n",
    "class AgentState(TypedDict):\n",
    "    query: str\n",
    "    context: List[Document]\n",
    "    answer: str"
   ],
   "id": "e9fa51b9c928ae7a",
   "outputs": [],
   "execution_count": 108
  },
  {
   "metadata": {
    "ExecuteTime": {
     "end_time": "2025-07-07T22:58:18.367661Z",
     "start_time": "2025-07-07T22:58:18.364652Z"
    }
   },
   "cell_type": "code",
   "source": [
    "def retrieve(state: AgentState):\n",
    "    query = state['query']\n",
    "    docs = retriever.invoke(query)\n",
    "    return {'context': docs}"
   ],
   "id": "b006274a5ebaa0d5",
   "outputs": [],
   "execution_count": 109
  },
  {
   "metadata": {
    "ExecuteTime": {
     "end_time": "2025-07-07T22:58:19.066395Z",
     "start_time": "2025-07-07T22:58:18.416314Z"
    }
   },
   "cell_type": "code",
   "source": [
    "# Create a LANGSMITH_API_KEY in Settings > API Keys\n",
    "from langsmith import Client\n",
    "from langchain_openai import ChatOpenAI\n",
    "\n",
    "client = Client()\n",
    "generate_prompt = client.pull_prompt(\"rlm/rag-prompt\", include_model=True)\n",
    "llm = ChatOpenAI(model=\"gpt-4o\")"
   ],
   "id": "c4f655b3a7ce2efe",
   "outputs": [],
   "execution_count": 110
  },
  {
   "metadata": {
    "ExecuteTime": {
     "end_time": "2025-07-07T22:58:19.079235Z",
     "start_time": "2025-07-07T22:58:19.076631Z"
    }
   },
   "cell_type": "code",
   "source": [
    "def generate(state: AgentState):\n",
    "    context = state['context']\n",
    "    query = state['query']\n",
    "    rag_chain = generate_prompt | llm\n",
    "    response = rag_chain.invoke({'context': context, 'question': query})\n",
    "    return {'answer': response}"
   ],
   "id": "d50db645334bdf1",
   "outputs": [],
   "execution_count": 111
  },
  {
   "metadata": {
    "ExecuteTime": {
     "end_time": "2025-07-07T22:58:19.884920Z",
     "start_time": "2025-07-07T22:58:19.133100Z"
    }
   },
   "cell_type": "code",
   "source": [
    "# Create a LANGSMITH_API_KEY in Settings > API Keys\n",
    "from langsmith import Client\n",
    "client = Client()\n",
    "relevance_doc_prompt = client.pull_prompt(\"langchain-ai/rag-document-relevance\", include_model=True)"
   ],
   "id": "95a8e47de048fc20",
   "outputs": [],
   "execution_count": 112
  },
  {
   "metadata": {
    "ExecuteTime": {
     "end_time": "2025-07-07T22:58:19.899755Z",
     "start_time": "2025-07-07T22:58:19.896929Z"
    }
   },
   "cell_type": "code",
   "source": [
    "from typing import Literal\n",
    "\n",
    "def check_doc_relevance(state: AgentState) -> Literal['generate', 'rewrite']:\n",
    "    query = state['query']\n",
    "    context = state['context']\n",
    "    relevance_doc_chain = relevance_doc_prompt | llm\n",
    "    response = relevance_doc_chain.invoke({'question': query, 'documents': context})\n",
    "    if response['Score'] == 1:\n",
    "        return 'generate'\n",
    "\n",
    "    return 'rewrite'"
   ],
   "id": "3a18a8424eaf6154",
   "outputs": [],
   "execution_count": 113
  },
  {
   "metadata": {
    "ExecuteTime": {
     "end_time": "2025-07-07T22:58:19.955970Z",
     "start_time": "2025-07-07T22:58:19.952692Z"
    }
   },
   "cell_type": "code",
   "source": [
    "from langchain_core.prompts import PromptTemplate\n",
    "from langchain_core.output_parsers import StrOutputParser\n",
    "\n",
    "dictionary = ['LLM -> 생성형AI', '돈 관련 단위 -> 달러']\n",
    "\n",
    "rewrite_prompt = PromptTemplate.from_template(f\"\"\"\n",
    "사용자의 질문을 보고 우리의 사전을 참고해서 사용자의 질문을 변경해주세요\n",
    "사전 : {dictionary}\n",
    "질문 : {{query}}\n",
    "                                              \"\"\")\n",
    "\n",
    "def rewrite(state: AgentState):\n",
    "    query = state['query']\n",
    "    rewrite_chain = rewrite_prompt | llm | StrOutputParser()\n",
    "\n",
    "    response = rewrite_chain.invoke({'query': query})\n",
    "    return {'query': response}"
   ],
   "id": "55e0d315ed08dec7",
   "outputs": [],
   "execution_count": 114
  },
  {
   "metadata": {
    "ExecuteTime": {
     "end_time": "2025-07-07T22:58:20.021671Z",
     "start_time": "2025-07-07T22:58:20.016075Z"
    }
   },
   "cell_type": "code",
   "source": [
    "from langgraph.graph import StateGraph\n",
    "\n",
    "graph_builder = StateGraph(AgentState)\n",
    "\n",
    "graph_builder.nodes.clear()\n",
    "\n",
    "graph_builder.add_node('retrieve', retrieve)\n",
    "graph_builder.add_node('generate', generate)\n",
    "graph_builder.add_node('rewrite', rewrite)"
   ],
   "id": "50bad668795c3ae3",
   "outputs": [
    {
     "data": {
      "text/plain": [
       "<langgraph.graph.state.StateGraph at 0x7fe378d62c90>"
      ]
     },
     "execution_count": 115,
     "metadata": {},
     "output_type": "execute_result"
    }
   ],
   "execution_count": 115
  },
  {
   "metadata": {
    "ExecuteTime": {
     "end_time": "2025-07-07T22:58:20.071793Z",
     "start_time": "2025-07-07T22:58:20.067294Z"
    }
   },
   "cell_type": "code",
   "source": [
    "from langgraph.graph import START, END\n",
    "\n",
    "graph_builder.edges.clear()\n",
    "\n",
    "graph_builder.add_edge(START, 'retrieve')\n",
    "graph_builder.add_conditional_edges('retrieve', check_doc_relevance)\n",
    "graph_builder.add_edge('rewrite', 'retrieve')\n",
    "graph_builder.add_edge('generate', END)"
   ],
   "id": "74c427c71803ba51",
   "outputs": [
    {
     "data": {
      "text/plain": [
       "<langgraph.graph.state.StateGraph at 0x7fe378d62c90>"
      ]
     },
     "execution_count": 116,
     "metadata": {},
     "output_type": "execute_result"
    }
   ],
   "execution_count": 116
  },
  {
   "metadata": {
    "ExecuteTime": {
     "end_time": "2025-07-07T22:58:20.127455Z",
     "start_time": "2025-07-07T22:58:20.121021Z"
    }
   },
   "cell_type": "code",
   "source": "graph = graph_builder.compile()",
   "id": "bf255e785eb7a931",
   "outputs": [],
   "execution_count": 117
  },
  {
   "metadata": {
    "ExecuteTime": {
     "end_time": "2025-07-07T22:58:20.348383Z",
     "start_time": "2025-07-07T22:58:20.185857Z"
    }
   },
   "cell_type": "code",
   "source": [
    "from IPython.display import Image, display\n",
    "\n",
    "display(Image(graph.get_graph().draw_mermaid_png()))"
   ],
   "id": "62b7ed37b8489291",
   "outputs": [
    {
     "data": {
      "image/png": "[encoded data removed]",
      "text/plain": [
       "<IPython.core.display.Image object>"
      ]
     },
     "metadata": {},
     "output_type": "display_data"
    }
   ],
   "execution_count": 118
  },
  {
   "metadata": {
    "ExecuteTime": {
     "end_time": "2025-07-07T22:58:28.234292Z",
     "start_time": "2025-07-07T22:58:20.361731Z"
    }
   },
   "cell_type": "code",
   "source": [
    "initial_state = {'query' : '구글의 LLM 관련 투자 규모는'}\n",
    "graph.invoke(initial_state)"
   ],
   "id": "8424d40b036e9718",
   "outputs": [
    {
     "data": {
      "text/plain": [
       "{'query': '구글의 LLM 관련 투자 규모는',\n",
       " 'context': [Document(id='09964d55-41c0-4798-acc7-e9a7a47b59d6', metadata={'source': './documents/brief_2023년12월호_f.txt'}, page_content='아마존과 구글의 앤스프릭 투자에 앞서, 마이크로소프트는 차세대 AI 모델의 대표 주자인 오픈AI와 협력 확대\\n\\n마이크로소프트는 오픈AI에 앞서 투자한 30억 달러에 대해 2023년 1월 추가로 100억 달러를 투자하기로 하면서 오픈AI의 지분 49%를 확보했으며, 오픈AI는 마이크로소프트의 애저(Azure) 클라우드 플랫폼을 사용해 AI 모델을 훈련\\n\\n구글, 클라우드 경쟁력 강화를 위해 생성 AI 투자 확대\\n\\n구글은 수익성이 높은 클라우드 컴퓨팅 시장에서 아마존과 마이크로소프트를 따라잡고자 생성 AI를 통한 기업 고객의 클라우드 지출 확대를 위해 AI 투자 지속\\n구글은 앤스프릭 외에도 동영상 제작 도구를 개발하는 런웨이(Runway)와 오픈소스 소프트웨어 기업 허깅페이스(Hugging Face)에도 투자\\n구글은 첫 GPT의 기반 기술과 직접 경쟁할 수 있는 차세대 LLM ‘제미니(Gemini)’를 포함한 자체 시스템 개발에도 수십억 달러를 투자했으며, 2024년 제미니를 출시할 계획\\n\\n출처: The Wall Street Journal, Google Commits $2 Billion in Funding to AI Startup Anthropic, 2023.10.27. Bloomberg, AI Startup Anthropic to Use Google Chips in Expanded Partnership, 2023.11.09.\\nIDC, 2027년 AI 소프트웨어 매출 2,500억 달러 돌파 전망\\nKEY Contents\\n\\nIDC의 예측에 의하면 AI 소프트웨어 시장은 2027년 2,510억 달러로 성장하며, 생성 AI 플랫폼과 애플리케이션은 2027년까지 283억 달러의 매출을 창출할 전망\\n2023년 기준 AI 소프트웨어 매출의 3분기 1위를 차지하는 최대 시장인 AI 애플리케이션은 2027년까지 21.1%의 연평균 성장률을 기록할 전망\\n\\n기업들의 AI 투자 증가에 힘입어 AI 소프트웨어 시장 급성장 예상'),\n",
       "  Document(id='0e9c3b70-c04b-46bb-9cf5-99cf1c3dcd51', metadata={'source': './documents/brief_2023년12월호_f.txt'}, page_content='아마존과 구글의 앤스프릭 투자에 앞서, 마이크로소프트는 차세대 AI 모델의 대표 주자인 오픈AI와 협력 확대\\n\\n마이크로소프트는 오픈AI에 앞서 투자한 30억 달러에 대해 2023년 1월 추가로 100억 달러를 투자하기로 하면서 오픈AI의 지분 49%를 확보했으며, 오픈AI는 마이크로소프트의 애저(Azure) 클라우드 플랫폼을 사용해 AI 모델을 훈련\\n\\n구글, 클라우드 경쟁력 강화를 위해 생성 AI 투자 확대\\n\\n구글은 수익성이 높은 클라우드 컴퓨팅 시장에서 아마존과 마이크로소프트를 따라잡고자 생성 AI를 통한 기업 고객의 클라우드 지출 확대를 위해 AI 투자 지속\\n구글은 앤스프릭 외에도 동영상 제작 도구를 개발하는 런웨이(Runway)와 오픈소스 소프트웨어 기업 허깅페이스(Hugging Face)에도 투자\\n구글은 첫 GPT의 기반 기술과 직접 경쟁할 수 있는 차세대 LLM ‘제미니(Gemini)’를 포함한 자체 시스템 개발에도 수십억 달러를 투자했으며, 2024년 제미니를 출시할 계획\\n\\n출처: The Wall Street Journal, Google Commits $2 Billion in Funding to AI Startup Anthropic, 2023.10.27. Bloomberg, AI Startup Anthropic to Use Google Chips in Expanded Partnership, 2023.11.09.\\nIDC, 2027년 AI 소프트웨어 매출 2,500억 달러 돌파 전망\\nKEY Contents\\n\\nIDC의 예측에 의하면 AI 소프트웨어 시장은 2027년 2,510억 달러로 성장하며, 생성 AI 플랫폼과 애플리케이션은 2027년까지 283억 달러의 매출을 창출할 전망\\n2023년 기준 AI 소프트웨어 매출의 3분기 1위를 차지하는 최대 시장인 AI 애플리케이션은 2027년까지 21.1%의 연평균 성장률을 기록할 전망\\n\\n기업들의 AI 투자 증가에 힘입어 AI 소프트웨어 시장 급성장 예상'),\n",
       "  Document(id='8087dc56-3317-4651-a21f-3f58412e848e', metadata={'source': './documents/brief_2023년12월호_f.txt'}, page_content=\"아마존과 구글의 앤스롭픽 투자 앞서, 마이크로소프트는 차세대 AI 모델의 대표 주자인 오픈AI와 협력 확대\\n\\n마이크로소프트는 오픈AI에 앞서 투자한 30억 달러에 대해 2023년 1월 추가로 100억 달러를 투자하기로 하면서 오픈AI의 지분 49%를 확보했으며, 오픈AI는 마이크로소프트의 애저(Azure) 클라우드 플랫폼을 사용해 AI 모델을 훈련\\n\\n구글, 클라우드 경쟁력 강화를 위해 생성 AI 투자 확대\\n\\n구글은 수익성이 높은 클라우드 컴퓨팅 시장에서 아마존과 마이크로소프트를 따라잡고자 생성 AI를 통합한 기업 고객의 클라우드 지출 확대를 위해 AI 투자를 지속\\n구글은 앤스롭픽 외에도 동영상 제작 도구를 개발하는 런웨이(Runway)와 오픈소스 소프트웨어 기업 허깅 페이스(Hugging Face)에도 투자\\n구글은 첫 챗GPT의 기반 기술과 직접 경쟁할 수 있는 차세대 LLM '제미니( Gemini)'를 포함한 자율 시스템 개발에도 수십억 달러를 투자했으며, 2024년 제미니를 출시할 계획\\n\\n\\n출처 : The Wall Street Journal, Google Commits $2 Billion in Funding to AI Startup Anthropic, 2023.10.27. Bloomberg, AI Startup Anthropic to Use Google Chips in Expanded Partnership, 2023.11.09.\\n\\nIDC, 2027년 AI 소프트웨어 매출 2,500억 달러 돌파 전망\\nKEY Contents\\n\\nIDC에 따르면 AI 소프트웨어 시장은 2027년 2,510억 달러로 성장하며, 생성 AI 플랫폼과 애플리케이션은 2027년까지 283억 달러의 매출을 창출할 전망\\n2023년 기준 AI 소프트웨어 매출의 3분의 1을 차지하는 최대 시장인 AI 애플리케이션은 2027년까지 21.1%의 연평균 성장률을 기록할 전망\\n\\n기업들의 AI 투자 증가에 힘입어 AI 소프트웨어 시장 급성장 예상\")],\n",
       " 'answer': AIMessage(content=\"구글은 차세대 LLM '제미니(Gemini)'를 포함한 자체 시스템 개발에 수십억 달러를 투자했습니다.\", additional_kwargs={'refusal': None}, response_metadata={'token_usage': {'completion_tokens': 32, 'prompt_tokens': 1734, 'total_tokens': 1766, 'completion_tokens_details': {'accepted_prediction_tokens': 0, 'audio_tokens': 0, 'reasoning_tokens': 0, 'rejected_prediction_tokens': 0}, 'prompt_tokens_details': {'audio_tokens': 0, 'cached_tokens': 1664}}, 'model_name': 'gpt-4o-2024-08-06', 'system_fingerprint': 'fp_a288987b44', 'id': 'chatcmpl-Bqp514GQyM4CotqC3nRuPZwRmXNLq', 'service_tier': 'default', 'finish_reason': 'stop', 'logprobs': None}, id='run--521322d0-a5ea-499d-bf4f-76d6b2aa6d42-0', usage_metadata={'input_tokens': 1734, 'output_tokens': 32, 'total_tokens': 1766, 'input_token_details': {'audio': 0, 'cache_read': 1664}, 'output_token_details': {'audio': 0, 'reasoning': 0}})}"
      ]
     },
     "execution_count": 119,
     "metadata": {},
     "output_type": "execute_result"
    }
   ],
   "execution_count": 119
  }
 ],
 "metadata": {
  "kernelspec": {
   "display_name": "Python 3",
   "language": "python",
   "name": "python3"
  },
  "language_info": {
   "codemirror_mode": {
    "name": "ipython",
    "version": 2
   },
   "file_extension": ".py",
   "mimetype": "text/x-python",
   "name": "python",
   "nbconvert_exporter": "python",
   "pygments_lexer": "ipython2",
   "version": "2.7.6"
  }
 },
 "nbformat": 4,
 "nbformat_minor": 5
}
