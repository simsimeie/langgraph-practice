{
 "cells": [
  {
   "cell_type": "code",
   "id": "initial_id",
   "metadata": {
    "collapsed": true,
    "ExecuteTime": {
     "end_time": "2025-07-09T22:32:47.938511Z",
     "start_time": "2025-07-09T22:32:47.928133Z"
    }
   },
   "source": [
    "from dotenv import load_dotenv\n",
    "\n",
    "load_dotenv()"
   ],
   "outputs": [
    {
     "data": {
      "text/plain": [
       "True"
      ]
     },
     "execution_count": 1,
     "metadata": {},
     "output_type": "execute_result"
    }
   ],
   "execution_count": 1
  },
  {
   "metadata": {
    "ExecuteTime": {
     "end_time": "2025-07-09T22:32:48.121045Z",
     "start_time": "2025-07-09T22:32:48.117138Z"
    }
   },
   "cell_type": "code",
   "source": [
    "# SQLite3 버전 문제 해결: Chroma는 SQLite3 3.35.0 이상이 필요하지만 시스템에는 낮은 버전이 설치되어 있음\n",
    "# pysqlite3-binary를 사용하여 더 높은 버전의 SQLite3을 제공\n",
    "import sys\n",
    "import pysqlite3\n",
    "\n",
    "# 기존 sqlite3 모듈을 pysqlite3으로 대체\n",
    "sys.modules['sqlite3'] = pysqlite3\n",
    "print(f\"Using SQLite version: {pysqlite3.sqlite_version}\")"
   ],
   "id": "803d2b23185faf22",
   "outputs": [
    {
     "name": "stdout",
     "output_type": "stream",
     "text": [
      "Using SQLite version: 3.46.1\n"
     ]
    }
   ],
   "execution_count": 2
  },
  {
   "metadata": {
    "ExecuteTime": {
     "end_time": "2025-07-09T22:32:49.783421Z",
     "start_time": "2025-07-09T22:32:48.173777Z"
    }
   },
   "cell_type": "code",
   "source": [
    "import chromadb\n",
    "from langchain_chroma import Chroma\n",
    "from langchain_openai import OpenAIEmbeddings\n",
    "\n",
    "client = chromadb.PersistentClient('./brief')\n",
    "\n",
    "embedding_function = OpenAIEmbeddings(model='text-embedding-3-large')\n",
    "\n",
    "vector_store = Chroma(\n",
    "    client=client,\n",
    "    embedding_function=embedding_function,\n",
    "    collection_name='brief'\n",
    ")\n",
    "\n",
    "retriever = vector_store.as_retriever(search_kwargs={\"k\": 3})"
   ],
   "id": "e63cdc66091e9bcc",
   "outputs": [],
   "execution_count": 3
  },
  {
   "metadata": {
    "ExecuteTime": {
     "end_time": "2025-07-09T22:32:49.826232Z",
     "start_time": "2025-07-09T22:32:49.795961Z"
    }
   },
   "cell_type": "code",
   "source": [
    "from typing_extensions import List, TypedDict\n",
    "from langchain_core.documents import Document\n",
    "from langgraph.graph import StateGraph\n",
    "\n",
    "\n",
    "class AgentState(TypedDict):\n",
    "    query: str\n",
    "    context: List[Document]\n",
    "    answer: str\n",
    "\n",
    "\n",
    "graph_builder = StateGraph(AgentState)"
   ],
   "id": "591a1b4607b69478",
   "outputs": [],
   "execution_count": 4
  },
  {
   "metadata": {
    "ExecuteTime": {
     "end_time": "2025-07-09T22:32:49.855904Z",
     "start_time": "2025-07-09T22:32:49.852710Z"
    }
   },
   "cell_type": "code",
   "source": [
    "def retrieve(state: AgentState):\n",
    "    query = state['query']\n",
    "    docs = retriever.invoke(query)\n",
    "    return {'context': docs}"
   ],
   "id": "70a9d162a647144",
   "outputs": [],
   "execution_count": 5
  },
  {
   "metadata": {
    "ExecuteTime": {
     "end_time": "2025-07-09T22:32:49.922565Z",
     "start_time": "2025-07-09T22:32:49.904179Z"
    }
   },
   "cell_type": "code",
   "source": [
    "from langchain_openai import ChatOpenAI\n",
    "\n",
    "llm = ChatOpenAI(model='gpt-4o')"
   ],
   "id": "32d2d70c56e5d471",
   "outputs": [],
   "execution_count": 6
  },
  {
   "metadata": {
    "ExecuteTime": {
     "end_time": "2025-07-09T22:32:50.533502Z",
     "start_time": "2025-07-09T22:32:49.961816Z"
    }
   },
   "cell_type": "code",
   "source": [
    "from langchain import hub\n",
    "from langchain_core.output_parsers import StrOutputParser\n",
    "\n",
    "generate_prompt = hub.pull(\"rlm/rag-prompt\")\n",
    "\n",
    "\n",
    "def generate(state: AgentState):\n",
    "    context = state['context']\n",
    "    query = state['query']\n",
    "    rag_chain = generate_prompt | llm | StrOutputParser()\n",
    "    response = rag_chain.invoke({'context': context, 'question': query})\n",
    "    return {'answer': response}\n"
   ],
   "id": "6262934adbafd085",
   "outputs": [],
   "execution_count": 7
  },
  {
   "metadata": {
    "ExecuteTime": {
     "end_time": "2025-07-09T22:32:51.043371Z",
     "start_time": "2025-07-09T22:32:50.544982Z"
    }
   },
   "cell_type": "code",
   "source": [
    "from langchain import hub\n",
    "from typing import Literal\n",
    "\n",
    "doc_relevance_prompt = hub.pull('langchain-ai/rag-document-relevance')\n",
    "\n",
    "\n",
    "def check_doc_relevance(state: AgentState) -> Literal['relevant', 'irrelevant']:\n",
    "    query = state['query']\n",
    "    context = state['context']\n",
    "    doc_relevance_chain = doc_relevance_prompt | llm\n",
    "    response = doc_relevance_chain.invoke({'question': query, 'documents': context})\n",
    "    if response['Score'] == 1:\n",
    "        return 'relevant'\n",
    "\n",
    "    return 'irrelevant'\n"
   ],
   "id": "40b3468fbcf3580f",
   "outputs": [],
   "execution_count": 8
  },
  {
   "metadata": {
    "ExecuteTime": {
     "end_time": "2025-07-09T22:32:51.073038Z",
     "start_time": "2025-07-09T22:32:51.053407Z"
    }
   },
   "cell_type": "code",
   "source": [
    "from langchain.prompts import PromptTemplate\n",
    "from langchain_core.output_parsers import StrOutputParser\n",
    "\n",
    "rewrite_prompt = PromptTemplate.from_template(\"\"\"\n",
    "사용자의 질문을 보고, 웹 검색에 용이하게 사용자의 질문을 수정해주세요\n",
    "질문: {query}\n",
    "                                              \"\"\")\n",
    "\n",
    "\n",
    "def rewrite(state: AgentState):\n",
    "    query = state['query']\n",
    "    rewrite_chain = rewrite_prompt | llm | StrOutputParser()\n",
    "    response = rewrite_chain.invoke({'query': query})\n",
    "    return {'query': response}"
   ],
   "id": "55a7011ca1c21665",
   "outputs": [],
   "execution_count": 9
  },
  {
   "metadata": {
    "ExecuteTime": {
     "end_time": "2025-07-09T22:32:51.178456Z",
     "start_time": "2025-07-09T22:32:51.110704Z"
    }
   },
   "cell_type": "code",
   "source": [
    "from langchain_community.tools import TavilySearchResults\n",
    "\n",
    "tavily_search_tool = TavilySearchResults(\n",
    "    max_results=3,\n",
    "    search_depth=\"advanced\",\n",
    "    include_answer=True,\n",
    "    include_raw_content=True,\n",
    "    include_images=True\n",
    ")\n",
    "\n",
    "\n",
    "def web_search(state: AgentState):\n",
    "    query = state['query']\n",
    "    results = tavily_search_tool.invoke(query)\n",
    "    return {'context': results}"
   ],
   "id": "7adbee20acef504e",
   "outputs": [
    {
     "name": "stderr",
     "output_type": "stream",
     "text": [
      "/tmp/ipykernel_4163668/1919484908.py:3: LangChainDeprecationWarning: The class `TavilySearchResults` was deprecated in LangChain 0.3.25 and will be removed in 1.0. An updated version of the class exists in the :class:`~langchain-tavily package and should be used instead. To use it run `pip install -U :class:`~langchain-tavily` and import as `from :class:`~langchain_tavily import TavilySearch``.\n",
      "  tavily_search_tool = TavilySearchResults(\n"
     ]
    }
   ],
   "execution_count": 10
  },
  {
   "metadata": {
    "ExecuteTime": {
     "end_time": "2025-07-09T22:32:51.194305Z",
     "start_time": "2025-07-09T22:32:51.190137Z"
    }
   },
   "cell_type": "code",
   "source": [
    "graph_builder.add_node('retrieve', retrieve)\n",
    "graph_builder.add_node('generate', generate)\n",
    "graph_builder.add_node('rewrite', rewrite)\n",
    "graph_builder.add_node('web_search', web_search)"
   ],
   "id": "8a813f2cdc219f2",
   "outputs": [
    {
     "data": {
      "text/plain": [
       "<langgraph.graph.state.StateGraph at 0x7f904d37c4d0>"
      ]
     },
     "execution_count": 11,
     "metadata": {},
     "output_type": "execute_result"
    }
   ],
   "execution_count": 11
  },
  {
   "metadata": {
    "ExecuteTime": {
     "end_time": "2025-07-09T22:32:51.247117Z",
     "start_time": "2025-07-09T22:32:51.242597Z"
    }
   },
   "cell_type": "code",
   "source": [
    "from langgraph.graph import START, END\n",
    "\n",
    "graph_builder.add_edge(START, 'retrieve')\n",
    "graph_builder.add_conditional_edges(\n",
    "    'retrieve',\n",
    "    check_doc_relevance,\n",
    "    {\n",
    "        'relevant': 'generate',\n",
    "        'irrelevant': 'rewrite'\n",
    "    }\n",
    ")\n",
    "\n",
    "graph_builder.add_edge('rewrite', 'web_search')\n",
    "graph_builder.add_edge('web_search', 'generate')\n",
    "graph_builder.add_edge('generate', END)"
   ],
   "id": "907e2494c4ccf87",
   "outputs": [
    {
     "data": {
      "text/plain": [
       "<langgraph.graph.state.StateGraph at 0x7f904d37c4d0>"
      ]
     },
     "execution_count": 12,
     "metadata": {},
     "output_type": "execute_result"
    }
   ],
   "execution_count": 12
  },
  {
   "metadata": {
    "ExecuteTime": {
     "end_time": "2025-07-09T22:32:51.300227Z",
     "start_time": "2025-07-09T22:32:51.294935Z"
    }
   },
   "cell_type": "code",
   "source": "graph = graph_builder.compile()",
   "id": "d39e7f3482914131",
   "outputs": [],
   "execution_count": 13
  },
  {
   "metadata": {
    "ExecuteTime": {
     "end_time": "2025-07-09T22:33:49.685833Z",
     "start_time": "2025-07-09T22:33:49.539007Z"
    }
   },
   "cell_type": "code",
   "source": [
    "from IPython.display import display, Image\n",
    "\n",
    "display(Image(graph.get_graph().draw_mermaid_png()))"
   ],
   "id": "7549457e76130396",
   "outputs": [
    {
     "data": {
      "image/png": "[encoded data removed]",
      "text/plain": [
       "<IPython.core.display.Image object>"
      ]
     },
     "metadata": {},
     "output_type": "display_data"
    }
   ],
   "execution_count": 15
  },
  {
   "metadata": {
    "ExecuteTime": {
     "end_time": "2025-07-09T22:35:54.857025Z",
     "start_time": "2025-07-09T22:35:36.052743Z"
    }
   },
   "cell_type": "code",
   "source": [
    "initial_state = {'query' : '삼성전자가 AI에 투자한 금액은 얼마인가요?'}\n",
    "graph.invoke(initial_state)"
   ],
   "id": "7308a26735d9fec4",
   "outputs": [
    {
     "data": {
      "text/plain": [
       "{'query': '\"삼성전자의 AI 투자 금액은 얼마인가요?\"',\n",
       " 'context': [{'title': '\"삼성전자, 미국 로봇 스타트업 스킬드AI에 100억원대 투자\" | 연합뉴스',\n",
       "   'url': 'https://www.yna.co.kr/view/AKR20250612056200009',\n",
       "   'content': '(서울=연합뉴스) 차병섭 기자 = 삼성전자가 미국 로봇 소프트웨어 스타트업인 스킬드AI에 1천만 달러(약 136억원)를 투자한다고 블룸버그 통신이 12일(현지시간) 복수의 익명 소식통을 인용해 보도했다.\\n\\n스킬드AI가 45억 달러(약 6조원) 수준의 기업 평가 가치를 바탕으로 진행 중인 시리즈B 자금 모집에 삼성전자가 참여해 소수 지분을 확보할 방침이라는 것이다.\\n\\n삼성전자 외에도 일본 소프트뱅크그룹이 1억 달러(약 1천368억원), 미국 반도체 업체 엔비디아는 2천500만 달러(약 342억원)가량을 각각 투자한다고 블룸버그는 전했다.\\n\\n삼성전자·엔비디아·스킬드AI 측은 블룸버그의 논평 요청에 입장을 밝히지 않았다.\\n\\nLG·한화·미래에셋 등 한국 대기업들이 스킬드AI에 500만∼1천만 달러(약 68억∼136억원) 규모로 투자 중인 점도 삼성전자가 스킬드AI에 대한 투자에 나선 배경으로 블룸버그는 분석했다. [...] # \"삼성전자, 미국 로봇 스타트업 스킬드AI에 100억원대 투자\"\\n\\n송고2025-06-12 10:19\\n\\n송고 2025년06월12일 10시19분\\n\\n삼성전자가 미국 로봇 소프트웨어 스타트업인 스킬드AI에 1천만 달러를 투자한다고 블룸버그 통신이 12일 복수의 익명 소식통을 인용해 보도했다.\\n\\nLG·한화·미래에셋 등 한국 대기업들이 스킬드AI에 500만∼1천만 달러 규모로 투자 중인 점도 삼성전자가 스킬드AI에 대한 투자에 나선 배경으로 블룸버그는 분석했다.\\n\\n애플·구글·테슬라 등 빅테크들이 로봇 산업을 미래 먹거리로 보고 대규모 투자를 이어가는 가운데, 삼성전자도 소비자용 로봇 산업에서 역량을 강화하려 하고 있다.\\n\\n차병섭\\n\\n## 블룸버그 보도…\"엔비디아·소프트뱅크도 투자\"\\n\\n삼성 AI 집사 로봇 \\'볼리\\'\\n\\n[연합뉴스 자료사진] [...] 애플·구글·테슬라 등 빅테크(거대 기술 기업)들이 로봇 산업을 미래 먹거리로 보고 대규모 투자를 이어가는 가운데, 삼성전자도 소비자용 로봇 산업에서 역량을 강화하려 하고 있다.\\n\\n삼성전자는 로봇청소기 등을 출시했지만, 여기서 더 나아가 휴머노이드 로봇과 다른 가전 분야로 영역을 넓혀가려 하고 있다.\\n\\n삼성전자는 휴머노이드 로봇을 만드는 레인보우로보틱스의 최대 주주이며, 몇 달 전에는 로보틱스 알고리즘 업체 피지컬인텔리전스에도 투자해 지분을 확보했다.\\n\\n또 구글과 협력해 올해 안에 공 모양의 가정용 인공지능 로봇 \\'볼리\\'를 출시할 계획이다.\\n\\nbscha@yna.co.kr\\n\\n제보는 카카오톡 okjebo\\n<저작권자(c) 연합뉴스,\\n무단 전재-재배포, AI 학습 및 활용 금지>\\n\\n2025/06/12 10:19 송고\\n2025년06월12일 10시19분 송고\\n\\n### 핫뉴스',\n",
       "   'score': 0.85967577,\n",
       "   'raw_content': '# \"삼성전자, 미국 로봇 스타트업 스킬드AI에 100억원대 투자\"\\n\\n송고2025-06-12 10:19\\n\\n송고 2025년06월12일 10시19분\\n\\n삼성전자가 미국 로봇 소프트웨어 스타트업인 스킬드AI에 1천만 달러를 투자한다고 블룸버그 통신이 12일 복수의 익명 소식통을 인용해 보도했다.\\n\\nLG·한화·미래에셋 등 한국 대기업들이 스킬드AI에 500만∼1천만 달러 규모로 투자 중인 점도 삼성전자가 스킬드AI에 대한 투자에 나선 배경으로 블룸버그는 분석했다.\\n\\n애플·구글·테슬라 등 빅테크들이 로봇 산업을 미래 먹거리로 보고 대규모 투자를 이어가는 가운데, 삼성전자도 소비자용 로봇 산업에서 역량을 강화하려 하고 있다.\\n\\n![차병섭](https://img0.yna.co.kr/reporter/31373839393837.jpg)\\n\\n## 블룸버그 보도…\"엔비디아·소프트뱅크도 투자\"\\n\\n![삼성 AI 집사 로봇 \\'볼리\\'](//img8.yna.co.kr/etc/inner/KR/2025/06/12/AKR20250612056200009_01_i_P4.jpg)\\n\\n[연합뉴스 자료사진]\\n\\n(서울=연합뉴스) 차병섭 기자 = 삼성전자가 미국 로봇 소프트웨어 스타트업인 스킬드AI에 1천만 달러(약 136억원)를 투자한다고 블룸버그 통신이 12일(현지시간) 복수의 익명 소식통을 인용해 보도했다.\\n\\n스킬드AI가 45억 달러(약 6조원) 수준의 기업 평가 가치를 바탕으로 진행 중인 시리즈B 자금 모집에 삼성전자가 참여해 소수 지분을 확보할 방침이라는 것이다.\\n\\n삼성전자 외에도 일본 소프트뱅크그룹이 1억 달러(약 1천368억원), 미국 반도체 업체 엔비디아는 2천500만 달러(약 342억원)가량을 각각 투자한다고 블룸버그는 전했다.\\n\\n삼성전자·엔비디아·스킬드AI 측은 블룸버그의 논평 요청에 입장을 밝히지 않았다.\\n\\nLG·한화·미래에셋 등 한국 대기업들이 스킬드AI에 500만∼1천만 달러(약 68억∼136억원) 규모로 투자 중인 점도 삼성전자가 스킬드AI에 대한 투자에 나선 배경으로 블룸버그는 분석했다.\\n\\n애플·구글·테슬라 등 빅테크(거대 기술 기업)들이 로봇 산업을 미래 먹거리로 보고 대규모 투자를 이어가는 가운데, 삼성전자도 소비자용 로봇 산업에서 역량을 강화하려 하고 있다.\\n\\n삼성전자는 로봇청소기 등을 출시했지만, 여기서 더 나아가 휴머노이드 로봇과 다른 가전 분야로 영역을 넓혀가려 하고 있다.\\n\\n삼성전자는 휴머노이드 로봇을 만드는 레인보우로보틱스의 최대 주주이며, 몇 달 전에는 로보틱스 알고리즘 업체 피지컬인텔리전스에도 투자해 지분을 확보했다.\\n\\n또 구글과 협력해 올해 안에 공 모양의 가정용 인공지능 로봇 \\'볼리\\'를 출시할 계획이다.\\n\\nbscha@yna.co.kr\\n\\n*[제보는 카카오톡 okjebo](https://www.yna.co.kr/board/jebo/index?site=copyright_jebo_view)*\\n*<저작권자(c) 연합뉴스,*\\n*무단 전재-재배포, AI 학습 및 활용 금지>*\\n\\n2025/06/12 10:19 송고\\n2025년06월12일 10시19분 송고\\n\\n### [핫뉴스](https://www.yna.co.kr/theme/hotnews-history)\\n\\n![마라톤 심리·장고 끝 尹 재구속 결정…남세진 부장판사 누구](https://img9.yna.co.kr/template/kr/20250710/kr_659_20250710024621_T2.jpg)\\n![[샷!] \\'신데렐라 수사\\'…구두의 주인은](https://img3.yna.co.kr/photo/reuters/2025/06/09/PRU20250609476701009_T2.jpg)\\n![러 차세대 대형 드론, 시험 비행 중 민가 추락](https://img3.yna.co.kr/template/kr/20250710/kr_659_20250710032820_T2.jpg)\\n![머스크의 xAI 챗봇 그록, 히틀러 찬양 글로 또 \\'뭇매\\'](https://img5.yna.co.kr/photo/etc/epa/2025/07/06/PEP20250706080301009_T2.jpg)\\n![트럼프 쥐고 흔드는 32세 \\'마가 인플루언서\\' 로라 루머](https://img6.yna.co.kr/photo/etc/gt/2025/04/04/PGT20250404024701009_T2.jpg)\\n![강풍·태풍도 없었는데…속초 시내 신호등이 기울어진 까닭은](https://img9.yna.co.kr/etc/inner/KR/2025/07/09/AKR20250709130300062_01_i_T2.jpg)\\n![창원서 새벽 아파트 화재 감지 반려견, 주인 잠 깨워 가족 구해](https://img8.yna.co.kr/etc/inner/KR/2025/07/10/AKR20250710015500052_01_i_T2.jpg)\\n![[사이테크+] \"2천400만년 된 동물 화석 이빨에서 단백질 복원 성공\"](https://img7.yna.co.kr/template/kr/20250710/kr_659_20250710001226_T2.jpg)\\n\\n### 에디터스 픽Editor\\'s Picks\\n\\n#### 영상\\n\\n![[영상] 자폭드론에 쾅! 서서히 침몰…후티, 홍해 상선 습격순간 공개](https://img4.yna.co.kr/mpic/YH/2025/07/09/MYH20250709015600704_P1.jpg)\\n![[영상] \"람보르기니로 120㎞/h 한참 과속\"…리버풀 조타 사망 원인은](https://img9.yna.co.kr/mpic/YH/2025/07/09/MYH20250709015900704_P1.jpg)\\n![[영상] 영장심사 위해 법원 출석한 尹, 질문엔 묵묵부답](https://img9.yna.co.kr/mpic/YH/2025/07/09/MYH20250709013700704_P1.jpg)\\n\\n#### 뉴스\\n\\n![尹, 4개월만에 내란특검에 재구속…법원 \"증거인멸 염려\"](https://img7.yna.co.kr/photo/yna/YH/2025/07/09/PYH2025070913820001300_T2.jpg)\\n![다시 구속된 尹, 서울구치소 독방 수용…경호는 중단](https://img9.yna.co.kr/photo/yna/YH/2025/07/09/PYH2025070913800001300_T2.jpg)\\n![김건희가 밀었다는 김상민…공천개입 의혹 밝힐 \\'키맨\\' 되나](https://img0.yna.co.kr/photo/cms/2025/06/24/37/PCM20250624000037990_T2.jpg)\\n![美국방장관 前고문 \"주한미군 전투병력 대폭 줄여 1만명만 둬야\"](https://img4.yna.co.kr/photo/yna/YH/2025/06/18/PYH2025061809330006000_T2.jpg)\\n\\n### [오래 머문 뉴스](https://www.yna.co.kr/theme/long-stay-news/index)\\n\\n### 랭킹뉴스\\n\\n![[영상] 침수로 꿈쩍 않는 출입문…실제 상황이라면 어떻게?](https://img9.yna.co.kr/etc/inner/KR/2025/07/09/AKR20250709145800797_01_i_P2.jpg)\\n![[BlaccTV] 차량 6대 나무 충돌…목숨 걸고 2차 사고 막았더니 가해자라고?](https://img6.yna.co.kr/etc/inner/KR/2025/07/08/AKR20250708063000797_01_i_P2.jpg)\\n![[와플] \"처방약 먹고 운전하면 안돼요\"…처벌 기준 알아봤습니다](https://img4.yna.co.kr/etc/inner/KR/2025/07/04/AKR20250704086100797_01_i_P2.jpg)\\n![[와플] \"B형 냥이 혈액 급구\"…고양이 헌혈센터가 있다?](https://img4.yna.co.kr/etc/inner/KR/2025/06/30/AKR20250630154100797_01_i_P2.jpg)\\n\\n다양한 채널에서 연합뉴스를 만나보세요!\\n\\n다양한 채널에서 연합뉴스를 만나보세요!\\n\\n©2025 Yonhapnews Agency\\n\\n![삼성 AI 집사 로봇 \\'볼리\\'](https://img8.yna.co.kr/etc/inner/KR/2025/06/12/AKR20250612056200009_01_i_P4.jpg)\\n\\n[연합뉴스 자료사진]\\n\\n![삼성 AI 집사 로봇 \\'볼리\\'](https://img6.yna.co.kr/etc/inner/KR/2025/06/12/AKR20250612056200009_01_i_T2.jpg)'},\n",
       "  {'title': '\"삼성전자, 美 로봇 스타트업 스킬드AI에 1000만 달러 투자\" | 한국일보',\n",
       "   'url': 'https://www.hankookilbo.com/News/Read/A2025061213450005829',\n",
       "   'content': '삼성전자가 미국 로봇 소프트웨어 스타트업인 스킬드AI에 1,000만 달러(136억 원)를 투자한다고 블룸버그 통신이 12일(현지시간) 익명 소식통을 인용해 보도했다. 이번 투자는 스킬드AI의 기업가치를 약 45억 달러(6조 원)로 평가하는 시리즈B(사업을 본격화하는 단계) 투자 모집 차원에 이뤄졌다. 소프트뱅크가 이를 주도해 1억 달러(1,369억원)를 넣고 미국 반도체 업체 엔비디아도 2,500만 달러(342억 원)가량을 투자한다고 소식통은 전했다.\\n\\n블룸버그는 삼성전자가 로봇 분야 스타트업 및 인재를 찾는 계기를 마련하려는 뜻에서 이번 투자를 단행한 것이라고 분석했다. LG, 한화, 미래에셋 등 한국 기업이 500만~1,000만 달러(68억4,500만~136억9,000만원) 수준으로 스킬드AI 투자에 참여한 것도 투자 배경으로 꼽힌다. [...] 여러사람에게 보낼 경우 메일주소는 세미콜론(;)으로 구분해 주세요.  \\n(최대 5개)\\n\\n#### 보내는 분\\n\\n보내는 분의 이름을 입력해주세요.\\n\\n올바른 이메일 형식이 아닙니다.\\n\\n기사가 메일로 전송 되었습니다.\\n\\n구독을 취소하시겠습니까?\\n\\n해당 컨텐츠를 구독/취소 하실수 없습니다.\\n\\n이미 공감 표현을 선택하신  \\n기사입니다. 변경을 원하시면 취소  \\n후 다시 선택해주세요.\\n\\n보내주신 소중한 제보는 정상적으로   \\n접수되었으며 뉴스 제작에 활용될   \\n예정입니다.\\n\\n이미지, 영상, 문서, 압축 형식의 파일만 첨부 가능합니다.\\n\\njpg, jpeg, png, mp4, avi, hwp, doc, zip\\n\\n이윤주 기자\\n\\n제보자의 신분은 한국일보 보도 준칙에 따라 철저히 보호되며, 제공하신 개인정보는 취재를 위해서만 사용됩니다. [...] 한국일보가 제공하는 다양한 형태의 이벤트 및 행사(포럼, 대회, 강연, 시상, 수상, 구독 등) 관련한 참여 정보를 추천·안내\\n\\n한국일보가 회원을 위해 제공하는 뉴스레터 등 모든 뉴스 서비스(뉴스, 영상, 뉴스 서비스 기반 이벤트 및 프로모션, 새로운 포맷 콘텐츠) 등 추천·안내\\n\\n이용약관 및 개인정보 처리 방침은 필수 항목 입니다.\\n\\n선택 항목 미동의 시 뉴스 추천서비스 혹은 이벤트/행사 당첨 혜택에서 제외될 수 있습니다.\\n\\n이미 가입된 회원입니다.\\n\\n사용 가능한 아이디 입니다.\\n\\n이름\\n\\n댓글 작성 시 필명이 노출 됩니다.\\n\\n사용 가능한 필명입니다.\\n\\n댓글 작성 시 필명이 노출됩니다.\\n\\n사용 가능한 필명입니다.\\n\\n한국일보 회원가입이 완료 되었습니다.\\n\\n로그인 한 후 이용 가능합니다.\\n  \\n로그인 하시겠습니까?\\n\\n보내는 기사\\n\\n### \"삼성전자, 美 로봇 스타트업 스킬드AI에 1000만 달러 투자\"',\n",
       "   'score': 0.85097736,\n",
       "   'raw_content': '읽는 재미의 발견\\n\\n새로워진 한국일보[로그인/회원가입](javascript:openSignInPopUp();)\\n\\n![The Korean Times](/images/svg/the_korean_times.svg)\\n\\n웹 알림 동의 (크롬브라우저만 가능)\\n\\n# \"삼성전자, 美 로봇 스타트업 스킬드AI에 1000만 달러 투자\"\\n\\n## 블룸버그 보도…\"엔비디아·소프트뱅크도 투자\"\\n\\n![2024년 9월 6일 독일 베를린에 마련된 유럽 최대 가전전시회 IFA 2024 삼성전자 전시 부스에서 인공지능 로봇 볼리(Ballie)가 개인 맞춤형 서비스를 시연하고 있다. 한국일보 자료사진](https://newsimg-hams.hankookilbo.com/2025/06/12/20ee1071-8d71-43ad-a0e0-3d749d88b5bc.jpg)\\n\\n2024년 9월 6일 독일 베를린에 마련된 유럽 최대 가전전시회 IFA 2024 삼성전자 전시 부스에서 인공지능 로봇 볼리(Ballie)가 개인 맞춤형 서비스를 시연하고 있다. 한국일보 자료사진\\n\\n**삼성전자가 미국 로봇 소프트웨어 스타트업인 스킬드AI에 1,000만 달러(136억 원)를 투자**한다고 블룸버그 통신이 12일(현지시간) 익명 소식통을 인용해 보도했다. 이번 투자는 **스킬드AI의 기업가치를 약 45억 달러(6조 원)로 평가하는 시리즈B(사업을 본격화하는 단계) 투자 모집 차원에 이뤄졌다.** 소프트뱅크가 이를 주도해 1억 달러(1,369억원)를 넣고 미국 반도체 업체 엔비디아도 2,500만 달러(342억 원)가량을 투자한다고 소식통은 전했다.\\n\\n블룸버그는 **삼성전자가 로봇 분야 스타트업 및 인재를 찾는 계기를 마련하려는 뜻에서 이번 투자를 단행한 것**이라고 분석했다. LG, 한화, 미래에셋 등 한국 기업이 500만~1,000만 달러(68억4,500만~136억9,000만원) 수준으로 스킬드AI 투자에 참여한 것도 투자 배경으로 꼽힌다.\\n\\n로봇 산업은 현재 애플, 메타, 아마존, 구글, 테슬라 등 글로벌 테크 기업이 핵심 미래 먹거리로 꼽으며 각광받고 있다. 삼성전자도 로봇을 개발하며 사업 확장을 준비 중이다. **2024년 12월 휴머노이드 스타트업 레인보우로보틱스에 대한 투자 지분 14.7%에 콜옵션(주식매입권리)을 행사해 최대 주주로** 올라섰고 최근 **또 다른 로봇 알고리즘 스타트업인 피지컬 인텔리전스**에 소규모 지분 투자도 단행한 것으로 알려졌다. 이르면 **이달 중 반려 로봇 \\'볼리\\'를 출시할 예정**이다.\\n\\n#### 관련 이슈태그\\n\\n기사 URL이 복사되었습니다.\\n\\n### 이 기사와 관련된 기사\\n\\n### 당신이 관심 있을 만한 이슈\\n\\n### \\n\\n### [경제](/News/Economy) 많이 본 뉴스\\n\\n### LIVE ISSUE\\n\\n### [좌충우돌 머스크](/Hashtag?Page=1&hashTagId=2d866b01-cc5a-403c-a2a1-a182b3bb29b7)\\n\\n기사 URL이 복사되었습니다.\\n\\n### 댓글0\\n\\n작성하신 글을 삭제하시겠습니까?\\n\\n한국일보에  \\n**로그인**하면 다양한  \\n편의 기능을  \\n제공 받을 수 있습니다.\\n\\n아이디 또는 비밀번호를 잘못 입력했습니다.(연속 1회)\\n\\n아래 이미지를 보이는 대로 입력해주세요.\\n\\n스피커로 들리는 내용을 숫자로 입력해 주세요.\\n\\n![]()\\n![]()\\n\\n이미 가입된 회원입니다.\\n\\n공공장소에서 사용하는 컴퓨터에서는  \\n로그인 유지 기능 사용에 유의 바랍니다.\\n\\n손흥민/01012345678 으로 찾은 아이디 입니다.\\n\\nuser@hankookilbo.com\\n\\n인증방법 선택\\n\\n입력하신 사용자가 존재하지 않습니다.\\n\\n인증메일이 발송되었습니다. 해당 메일 계정 확인바랍니다. (유효시간:15분)\\n\\n비밀번호를 찾으실 아이디를\\n  \\n입력해주세요.\\n\\n비밀번호가 일치합니다.\\n\\n비밀번호가 변경되었습니다.\\n\\n유효 시간이 종료되었습니다.  \\n다시 인증메일을 발송해주세요.\\n\\n보안을 위해 비밀번호와 자동입력 방지문자를 함께 입력 바랍니다.\\n\\n만 14세 이상만 회원으로 가입하실 수 있습니다.\\n\\n한국일보가 제공하는 다양한 형태의 이벤트 및 행사(포럼, 대회, 강연, 시상, 수상, 구독 등) 관련한 참여 정보를 추천·안내\\n\\n한국일보가 회원을 위해 제공하는 뉴스레터 등 모든 뉴스 서비스(뉴스, 영상, 뉴스 서비스 기반 이벤트 및 프로모션, 새로운 포맷 콘텐츠) 등 추천·안내\\n\\n이용약관 및 개인정보 처리 방침은 필수 항목 입니다.\\n\\n선택 항목 미동의 시 뉴스 추천서비스 혹은 이벤트/행사 당첨 혜택에서 제외될 수 있습니다.\\n\\n이미 가입된 회원입니다.\\n\\n사용 가능한 아이디 입니다.\\n\\n이름\\n\\n댓글 작성 시 필명이 노출 됩니다.\\n\\n사용 가능한 필명입니다.\\n\\n댓글 작성 시 필명이 노출됩니다.\\n\\n사용 가능한 필명입니다.\\n\\n한국일보 회원가입이 완료 되었습니다.\\n\\n로그인 한 후 이용 가능합니다.\\n  \\n로그인 하시겠습니까?\\n\\n보내는 기사\\n\\n### \"삼성전자, 美 로봇 스타트업 스킬드AI에 1000만 달러 투자\"\\n\\n여러사람에게 보낼 경우 메일주소는 세미콜론(;)으로 구분해 주세요.  \\n(최대 5개)\\n\\n#### 보내는 분\\n\\n보내는 분의 이름을 입력해주세요.\\n\\n올바른 이메일 형식이 아닙니다.\\n\\n기사가 메일로 전송 되었습니다.\\n\\n구독을 취소하시겠습니까?\\n\\n해당 컨텐츠를 구독/취소 하실수 없습니다.\\n\\n이미 공감 표현을 선택하신  \\n기사입니다. 변경을 원하시면 취소  \\n후 다시 선택해주세요.\\n\\n보내주신 소중한 제보는 정상적으로   \\n접수되었으며 뉴스 제작에 활용될   \\n예정입니다.\\n\\n이미지, 영상, 문서, 압축 형식의 파일만 첨부 가능합니다.\\n\\njpg, jpeg, png, mp4, avi, hwp, doc, zip\\n\\n![]()\\n\\n이윤주 기자\\n\\n제보자의 신분은 한국일보 보도 준칙에 따라 철저히 보호되며, 제공하신 개인정보는 취재를 위해서만 사용됩니다.\\n\\n개인 정보 수집 및 이용 목적 : 회사는 수집한 개인정보를 제보 내용에 관한 확인 및 처리 등의 업무를 위해 수집, 이용하고 있습니다. 수집하는 개인정보 항목 - 이름, 이메일, 전화번호\\n\\n![한국일보](/images/svg/logo-gray.svg)\\n\\n개인정보 보호를 위해 익명 제보가 가능하며 실명인증을 하지 않습니다.\\n  \\n단, 제보자 연락 및 추가 취재가 필요하신 제보자는 연락처를 정확히 기입해주시기 바랍니다.\\n\\n![]()'},\n",
       "  {'title': '삼성전자, 2019년부터 45억원 투자한 英 AI 스타트업 인수...온 ...',\n",
       "   'url': 'https://www.greened.kr/news/articleView.html?idxno=316614',\n",
       "   'content': '녹색경제신문\\n녹색경제신문\\n!(/news/photo/202407/316614_357477_5629.jpg)\\n\\n[녹색경제신문 = 조아라 기자]\\n\\n삼성전자가 2019년부터 삼성벤처투자가 45억원을 투자하며 관심을 가진 영국의 스타트업 ‘옥스퍼드 시멘틱 테크놀로지스’를 인수했다. 이 회사는 AI의 원천기술이 되는 ‘시멘틱’ 기술을 보유한 회사로 향후 삼성전자의 온디바이스 AI 기술과 접목되어 시너지를 낼 것으로 전망된다.\\n\\n삼성전자는 지난 16일(현지시간) ‘옥스퍼드 시멘틱 테크놀로지스’ 인수 계약을 맺었다고 18일 밝혔다. 인수 금액은 밝히지 않았다.\\n\\n옥스퍼드 시멘틱 테크놀로지스는 2017년 옥스퍼드 대학교 교수 3인이 공동 창업한 스타트업으로 데이터를 사람의 지식 기억 및 회상 방식과 유사하게 저장, 처리하는 세계 최고 수준의 ‘지식 그래프’ 원천 기술을 보유하고 있다. [...] - 블루투스 이용한 탈중앙・암호화・P2P 기술로 비밀 보장성 내세워 [...] 삼성전자는 2018년부터 옥스퍼드 시멘틱 테크놀로지스와 여러 프로젝트를 협업하며 다각도로 기술력을 검증했다. 이번 인수를 통해 더욱 진화된 ‘개인화 지식 그래프(Personal Knowledge Graph)’ 핵심 기술을 확보해 나갈 계획이다.\\n\\n‘개인화 지식 그래프’ 기술은 서비스와 앱별로 분산되어 있던 정보와 맥락을 연결하여 마치 나만을 위한 기기를 사용하는 듯한 경험, 개인화된 경험을 제공할 수 있다는 장점이 있다.\\n\\n삼성전자는 갤럭시 S24부터 강조한 온디바이스(On-Device) AI와 결합해 민감한 개인 정보가 기기 외부로 유출되지 않도록 보호하면서도 초개인화된 경험을 제공할 것으로 기대된다.\\n\\n삼성전자는 향후 모바일뿐만 아니라 TV, 가전 등 다양한 제품에 적용한다는 계획이다.\\n\\n조아라 기자  lycaon@greened.kr\\n\\n조아라 기자\\n\\n\\\\ 이 로봇방지 인증은 구글 정책에 따라 2분만 유효합니다.',\n",
       "   'score': 0.7913865,\n",
       "   'raw_content': '![녹색경제신문](/image/logo/mobilelogo_20190527054101.png)\\n![녹색경제신문](/image/logo/printlogo_20190527054101.png)\\n![[사진=]](/news/photo/202407/316614_357477_5629.jpg)\\n\\n[녹색경제신문 = 조아라 기자]\\n\\n삼성전자가 2019년부터 삼성벤처투자가 45억원을 투자하며 관심을 가진 영국의 스타트업 ‘옥스퍼드 시멘틱 테크놀로지스’를 인수했다. 이 회사는 AI의 원천기술이 되는 ‘시멘틱’ 기술을 보유한 회사로 향후 삼성전자의 온디바이스 AI 기술과 접목되어 시너지를 낼 것으로 전망된다.\\n\\n삼성전자는 지난 16일(현지시간) ‘옥스퍼드 시멘틱 테크놀로지스’ 인수 계약을 맺었다고 18일 밝혔다. 인수 금액은 밝히지 않았다.\\n\\n옥스퍼드 시멘틱 테크놀로지스는 2017년 옥스퍼드 대학교 교수 3인이 공동 창업한 스타트업으로 데이터를 사람의 지식 기억 및 회상 방식과 유사하게 저장, 처리하는 세계 최고 수준의 ‘지식 그래프’ 원천 기술을 보유하고 있다.\\n\\n지식 그래프’는 관련 있는 정보들을 서로 연결된 그래프 형태로 표현해 주는 기술이다. 데이터를 통합하고 연결하여 사용자에 대한 이해를 높이고, 빠른 정보 검색과 추론을 지원하여 보다 정교하고 개인화된 AI를 구현하는 핵심 기술 중 하나로 꼽힌다.\\n\\n또한, 실생활에 사용되는 기기에서 끊임없이 변화하는 방대한 데이터를 지식 그래프로 변환하고 활용하는 과정에서 복잡한 연산이 수반되기 때문에 난이도가 높은 기술이기도 하다.\\n\\n하지만, 옥스퍼드 시멘틱 테크놀로지스는 데이터 처리 최적화 및 고도의 추론이 가능한 지식 그래프 기술을 개발해 이를 성공적으로 상용화했다.현재 유럽 및 북미 지역의 금융, 제조, 전자상거래 등 다양한 분야 회사들과 협력 중이다.\\n\\n삼성전자는 2018년부터 옥스퍼드 시멘틱 테크놀로지스와 여러 프로젝트를 협업하며 다각도로 기술력을 검증했다. 이번 인수를 통해 더욱 진화된 ‘개인화 지식 그래프(Personal Knowledge Graph)’ 핵심 기술을 확보해 나갈 계획이다.\\n\\n‘개인화 지식 그래프’ 기술은 서비스와 앱별로 분산되어 있던 정보와 맥락을 연결하여 마치 나만을 위한 기기를 사용하는 듯한 경험, 개인화된 경험을 제공할 수 있다는 장점이 있다.\\n\\n삼성전자는 갤럭시 S24부터 강조한 온디바이스(On-Device) AI와 결합해 민감한 개인 정보가 기기 외부로 유출되지 않도록 보호하면서도 초개인화된 경험을 제공할 것으로 기대된다.\\n\\n삼성전자는 향후 모바일뿐만 아니라 TV, 가전 등 다양한 제품에 적용한다는 계획이다.\\n\\n조아라 기자\\xa0\\xa0lycaon@greened.kr\\n\\n![조아라 기자](/image/newsroom/default-user.png)\\n\\n\\\\* 이 로봇방지 인증은 구글 정책에 따라 2분만 유효합니다.\\n\\n-본지(녹색경제신문), 2024년 에너지 업종 주요 50개 업체 미등기임원 보수 분석\\n-인천도시가스, 작년 임원 연봉 9억 원 넘어 1위…38곳 임원 월봉 1000만 원 넘어\\n-50곳 중 임원 평균 연봉은 2억 6106만 원 수준…매월 2175만 원 수준\\n\\n5G 서비스 제공을 위한 통신장비 증설 온실가스 배출량 증가\\n2050년 넷제로 달성 위해 RE100 가입 등\\n\\n-본지(녹색경제신문), 2024년 에너지 업종 주요 50개 업체 미등기임원 보수 분석\\n-인천도시가스, 작년 임원 연봉 9억 원 넘어 1위…38곳 임원 월봉 1000만 원 넘어\\n-50곳 중 임원 평균 연봉은 2억 6106만 원 수준…매월 2175만 원 수준\\n\\n여당의 역할은 단순히 집권 세력을 뒷받침하는 것을 넘어 국정 운영의 동반자로서 안정성과 협치 능력 동시에 발휘\\n안정과 협치의 리더십을 추구하는 박찬대 의원의 당선은 이런 역사적 요구에 부응하는 현명한 선택\\n\\n- 블루투스 이용한 탈중앙・암호화・P2P 기술로 비밀 보장성 내세워'}],\n",
       " 'answer': '삼성전자는 미국 로봇 소프트웨어 스타트업 스킬드AI에 1,000만 달러(약 136억 원)를 투자한 것으로 보도되었습니다. 이 투자는 스킬드AI의 시리즈B 자금 모집에 참여한 것입니다. 다른 AI 투자 금액에 대한 정보는 제공되지 않았습니다.'}"
      ]
     },
     "execution_count": 17,
     "metadata": {},
     "output_type": "execute_result"
    }
   ],
   "execution_count": 17
  }
 ],
 "metadata": {
  "kernelspec": {
   "display_name": "Python 3",
   "language": "python",
   "name": "python3"
  },
  "language_info": {
   "codemirror_mode": {
    "name": "ipython",
    "version": 2
   },
   "file_extension": ".py",
   "mimetype": "text/x-python",
   "name": "python",
   "nbconvert_exporter": "python",
   "pygments_lexer": "ipython2",
   "version": "2.7.6"
  }
 },
 "nbformat": 4,
 "nbformat_minor": 5
}
