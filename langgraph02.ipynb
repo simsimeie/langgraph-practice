{
 "cells": [
  {
   "cell_type": "code",
   "id": "initial_id",
   "metadata": {
    "collapsed": true,
    "ExecuteTime": {
     "end_time": "2025-07-03T22:05:36.643409Z",
     "start_time": "2025-07-03T22:05:25.532916Z"
    }
   },
   "source": "!pip install -q python-dotenv langchain-openai",
   "outputs": [],
   "execution_count": 2
  },
  {
   "metadata": {
    "ExecuteTime": {
     "end_time": "2025-07-03T22:06:13.445660Z",
     "start_time": "2025-07-03T22:06:13.438852Z"
    }
   },
   "cell_type": "code",
   "source": [
    "from dotenv import load_dotenv\n",
    "\n",
    "load_dotenv()"
   ],
   "id": "a54e3a5601ae891e",
   "outputs": [
    {
     "data": {
      "text/plain": [
       "True"
      ]
     },
     "execution_count": 4,
     "metadata": {},
     "output_type": "execute_result"
    }
   ],
   "execution_count": 4
  },
  {
   "metadata": {
    "ExecuteTime": {
     "end_time": "2025-07-03T22:07:11.470848Z",
     "start_time": "2025-07-03T22:07:05.204899Z"
    }
   },
   "cell_type": "code",
   "source": [
    "from langchain_openai import ChatOpenAI\n",
    "\n",
    "query = '인프런에는 어떤 강의들이 있나요?'\n",
    "llm = ChatOpenAI(model='gpt-4o-mini')\n",
    "llm.invoke(query)"
   ],
   "id": "5983385ddc8d8a3b",
   "outputs": [
    {
     "data": {
      "text/plain": [
       "AIMessage(content='인프런은 다양한 분야의 온라인 강의를 제공하는 플랫폼으로, 주로 IT 및 프로그래밍 관련 강의가 많습니다. 다음은 인프런에서 찾아볼 수 있는 강의의 주제들입니다:\\n\\n1. **프로그래밍 언어**: Python, Java, JavaScript, C#, PHP 등.\\n2. **웹 개발**: HTML, CSS, React, Vue.js, Node.js 등.\\n3. **모바일 개발**: Android, iOS, Flutter 등.\\n4. **데이터 사이언스**: 데이터 분석, 머신러닝, 딥러닝, R, TensorFlow 등.\\n5. **DevOps**: Docker, Kubernetes, CI/CD, AWS, Azure 등.\\n6. **UI/UX 디자인**: 디자인 원칙, 프로토타이핑, Figma, Adobe XD 등.\\n7. **기타 기술**: 블록체인, 게임 개발, 사이버 보안 등.\\n\\n각 강의는 주로 영상 강의 형식으로 제공되며, 실습 문제와 자료도 포함될 수 있습니다. 사용자는 자신이 원하는 분야와 수준에 맞는 강의를 선택하여 학습할 수 있습니다.', additional_kwargs={'refusal': None}, response_metadata={'token_usage': {'completion_tokens': 249, 'prompt_tokens': 18, 'total_tokens': 267, 'completion_tokens_details': {'accepted_prediction_tokens': 0, 'audio_tokens': 0, 'reasoning_tokens': 0, 'rejected_prediction_tokens': 0}, 'prompt_tokens_details': {'audio_tokens': 0, 'cached_tokens': 0}}, 'model_name': 'gpt-4o-mini-2024-07-18', 'system_fingerprint': 'fp_34a54ae93c', 'id': 'chatcmpl-BpMNAQhgdX9zz4ThQckml19SgfJZw', 'service_tier': 'default', 'finish_reason': 'stop', 'logprobs': None}, id='run--32ed99d0-daaf-4ded-b738-11eeacf20791-0', usage_metadata={'input_tokens': 18, 'output_tokens': 249, 'total_tokens': 267, 'input_token_details': {'audio': 0, 'cache_read': 0}, 'output_token_details': {'audio': 0, 'reasoning': 0}})"
      ]
     },
     "execution_count": 5,
     "metadata": {},
     "output_type": "execute_result"
    }
   ],
   "execution_count": 5
  },
  {
   "metadata": {
    "ExecuteTime": {
     "end_time": "2025-07-03T22:10:07.192506Z",
     "start_time": "2025-07-03T22:10:05.462621Z"
    }
   },
   "cell_type": "code",
   "source": "!pip install -q langgraph",
   "id": "1ff4c7e59edbccf4",
   "outputs": [],
   "execution_count": 6
  },
  {
   "metadata": {
    "ExecuteTime": {
     "end_time": "2025-07-03T22:35:59.052662Z",
     "start_time": "2025-07-03T22:35:59.049700Z"
    }
   },
   "cell_type": "code",
   "source": [
    "from typing import Annotated\n",
    "from typing_extensions import TypedDict\n",
    "\n",
    "from langgraph.graph.message import add_messages\n",
    "from langchain_core.messages import AnyMessage\n",
    "\n",
    "class AgentState(TypedDict):\n",
    "    messages : list[Annotated[AnyMessage, add_messages]]"
   ],
   "id": "43cb68db6ad5dd71",
   "outputs": [],
   "execution_count": 25
  },
  {
   "metadata": {
    "ExecuteTime": {
     "end_time": "2025-07-03T22:36:00.524926Z",
     "start_time": "2025-07-03T22:36:00.522094Z"
    }
   },
   "cell_type": "code",
   "source": [
    "from langgraph.graph import StateGraph\n",
    "\n",
    "# Graph Builder 생성\n",
    "graph_builder = StateGraph(AgentState)"
   ],
   "id": "91fc23b3251bdcdf",
   "outputs": [],
   "execution_count": 26
  },
  {
   "metadata": {
    "ExecuteTime": {
     "end_time": "2025-07-03T22:36:02.061743Z",
     "start_time": "2025-07-03T22:36:02.057923Z"
    }
   },
   "cell_type": "code",
   "source": [
    "def generate(state: AgentState) -> AgentState:\n",
    "    \"\"\"\n",
    "    `generate` 노드는 사용자의 질문을 받아서 응답을 생성하는 노드입니다.\n",
    "    \"\"\"\n",
    "    messages = state['messages']\n",
    "    ai_message = llm.invoke(messages)\n",
    "    return {'messages': [ai_message]}\n",
    "\n",
    "\n",
    "# 노드 삭제\n",
    "graph_builder.nodes.clear()\n",
    "\n",
    "# 노드 추가\n",
    "graph_builder.add_node('generate', generate)"
   ],
   "id": "297579999f166c85",
   "outputs": [],
   "execution_count": 27
  },
  {
   "metadata": {
    "ExecuteTime": {
     "end_time": "2025-07-03T22:36:07.503254Z",
     "start_time": "2025-07-03T22:36:07.498993Z"
    }
   },
   "cell_type": "code",
   "source": [
    "from langgraph.graph import START, END\n",
    "\n",
    "# 엣지 삭제\n",
    "graph_builder.edges.clear()\n",
    "\n",
    "# 시작점 끝점 추가\n",
    "graph_builder.add_edge(START, 'generate')\n",
    "graph_builder.add_edge('generate', END)"
   ],
   "id": "21b2bc490a10262a",
   "outputs": [
    {
     "data": {
      "text/plain": [
       "<langgraph.graph.state.StateGraph at 0x7f3fe9168250>"
      ]
     },
     "execution_count": 28,
     "metadata": {},
     "output_type": "execute_result"
    }
   ],
   "execution_count": 28
  },
  {
   "metadata": {
    "ExecuteTime": {
     "end_time": "2025-07-03T22:36:09.906902Z",
     "start_time": "2025-07-03T22:36:09.898811Z"
    }
   },
   "cell_type": "code",
   "source": "graph = graph_builder.compile()",
   "id": "9824129583c84bd",
   "outputs": [],
   "execution_count": 29
  },
  {
   "metadata": {
    "ExecuteTime": {
     "end_time": "2025-07-03T22:36:12.005942Z",
     "start_time": "2025-07-03T22:36:11.814586Z"
    }
   },
   "cell_type": "code",
   "source": [
    "from IPython.display import display, Image\n",
    "\n",
    "display(Image(graph.get_graph().draw_mermaid_png()))"
   ],
   "id": "8e092197591decf3",
   "outputs": [
    {
     "data": {
      "image/png": "[encoded data removed]",
      "text/plain": [
       "<IPython.core.display.Image object>"
      ]
     },
     "metadata": {},
     "output_type": "display_data"
    }
   ],
   "execution_count": 30
  },
  {
   "metadata": {
    "ExecuteTime": {
     "end_time": "2025-07-03T22:36:20.713753Z",
     "start_time": "2025-07-03T22:36:14.145452Z"
    }
   },
   "cell_type": "code",
   "source": [
    "from langchain_core.messages import HumanMessage\n",
    "\n",
    "initial_state = {'messages' : [HumanMessage(query)]}\n",
    "answer = graph.invoke(initial_state)\n",
    "answer.get('messages')\n"
   ],
   "id": "c523c688a7dcbea8",
   "outputs": [
    {
     "data": {
      "text/plain": [
       "[AIMessage(content='인프런은 다양한 분야의 온라인 강의를 제공하는 플랫폼입니다. 주요 강의 내용은 다음과 같은 주제를 포함합니다:\\n\\n1. **프로그래밍**: Python, Java, JavaScript, C++, 등 다양한 언어에 대한 강의.\\n2. **웹 개발**: HTML, CSS, React, Vue.js, Node.js 등 웹 관련 기술.\\n3. **앱 개발**: iOS, Android 개발 및 관련 프레임워크.\\n4. **데이터 사이언스**: 데이터 분석, 머신러닝, 빅데이터 등.\\n5. **디자인**: UI/UX 디자인, 그래픽 디자인, 포토샵, 일러스트레이터.\\n6. **SEO 및 디지털 마케팅**: 검색 엔진 최적화, 소셜 미디어 마케팅.\\n7. **클라우드 컴퓨팅**: AWS, Azure, Google Cloud 등 클라우드 관련 강의.\\n8. **DevOps**: CI/CD, Docker, Kubernetes 등 자동화 및 운영 관련 강의.\\n9. **경영 및 자기개발**: 리더십, 생산성 향상, 소통 기술 등.\\n\\n인프런에서는 강의 외에도 커뮤니티와 Q&A 섹션이 있어 학습자들이 서로 소통하고 도움을 받을 수 있습니다. 다양한 난이도와 형식의 강의가 있으니, 관심 있는 주제를 찾아보세요!', additional_kwargs={'refusal': None}, response_metadata={'token_usage': {'completion_tokens': 299, 'prompt_tokens': 18, 'total_tokens': 317, 'completion_tokens_details': {'accepted_prediction_tokens': 0, 'audio_tokens': 0, 'reasoning_tokens': 0, 'rejected_prediction_tokens': 0}, 'prompt_tokens_details': {'audio_tokens': 0, 'cached_tokens': 0}}, 'model_name': 'gpt-4o-mini-2024-07-18', 'system_fingerprint': 'fp_34a54ae93c', 'id': 'chatcmpl-BpMpKDtuwTYU9RqkzV1Zg93NaLOsq', 'service_tier': 'default', 'finish_reason': 'stop', 'logprobs': None}, id='run--3e28fddf-1cdc-4d83-a769-2cea1659be4d-0', usage_metadata={'input_tokens': 18, 'output_tokens': 299, 'total_tokens': 317, 'input_token_details': {'audio': 0, 'cache_read': 0}, 'output_token_details': {'audio': 0, 'reasoning': 0}})]"
      ]
     },
     "execution_count": 31,
     "metadata": {},
     "output_type": "execute_result"
    }
   ],
   "execution_count": 31
  }
 ],
 "metadata": {
  "kernelspec": {
   "display_name": "Python 3",
   "language": "python",
   "name": "python3"
  },
  "language_info": {
   "codemirror_mode": {
    "name": "ipython",
    "version": 2
   },
   "file_extension": ".py",
   "mimetype": "text/x-python",
   "name": "python",
   "nbconvert_exporter": "python",
   "pygments_lexer": "ipython2",
   "version": "2.7.6"
  }
 },
 "nbformat": 4,
 "nbformat_minor": 5
}
