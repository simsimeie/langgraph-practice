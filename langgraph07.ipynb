{
 "cells": [
  {
   "cell_type": "code",
   "id": "initial_id",
   "metadata": {
    "collapsed": true,
    "ExecuteTime": {
     "end_time": "2025-07-14T22:15:41.682553Z",
     "start_time": "2025-07-14T22:15:41.659482Z"
    }
   },
   "source": [
    "from dotenv import load_dotenv\n",
    "\n",
    "load_dotenv()"
   ],
   "outputs": [
    {
     "data": {
      "text/plain": [
       "True"
      ]
     },
     "execution_count": 3,
     "metadata": {},
     "output_type": "execute_result"
    }
   ],
   "execution_count": 3
  },
  {
   "metadata": {
    "ExecuteTime": {
     "end_time": "2025-07-14T22:15:41.786597Z",
     "start_time": "2025-07-14T22:15:41.781626Z"
    }
   },
   "cell_type": "code",
   "source": [
    "# SQLite3 버전 문제 해결: Chroma는 SQLite3 3.35.0 이상이 필요하지만 시스템에는 낮은 버전이 설치되어 있음\n",
    "# pysqlite3-binary를 사용하여 더 높은 버전의 SQLite3을 제공\n",
    "import sys\n",
    "import pysqlite3\n",
    "\n",
    "# 기존 sqlite3 모듈을 pysqlite3으로 대체\n",
    "sys.modules['sqlite3'] = pysqlite3\n",
    "print(f\"Using SQLite version: {pysqlite3.sqlite_version}\")"
   ],
   "id": "e081798ef71dcaee",
   "outputs": [
    {
     "name": "stdout",
     "output_type": "stream",
     "text": [
      "Using SQLite version: 3.46.1\n"
     ]
    }
   ],
   "execution_count": 4
  },
  {
   "metadata": {
    "ExecuteTime": {
     "end_time": "2025-07-14T22:15:43.632313Z",
     "start_time": "2025-07-14T22:15:41.840894Z"
    }
   },
   "cell_type": "code",
   "source": [
    "from langchain_chroma import Chroma\n",
    "from langchain_openai import OpenAIEmbeddings\n",
    "import chromadb\n",
    "\n",
    "client = chromadb.PersistentClient('./real_estate_tax_collection')\n",
    "\n",
    "embedding_function = OpenAIEmbeddings(model='text-embedding-3-large')\n",
    "\n",
    "vector_store = Chroma(\n",
    "    client=client,\n",
    "    embedding_function=embedding_function,\n",
    "    collection_name='real_estate_tax'\n",
    ")\n",
    "\n",
    "retriever = vector_store.as_retriever(search_kwargs={\"k\": 3})"
   ],
   "id": "3be03347defe5c27",
   "outputs": [],
   "execution_count": 5
  },
  {
   "metadata": {
    "ExecuteTime": {
     "end_time": "2025-07-14T22:15:43.691604Z",
     "start_time": "2025-07-14T22:15:43.653145Z"
    }
   },
   "cell_type": "code",
   "source": [
    "from typing_extensions import TypedDict\n",
    "from langgraph.graph import StateGraph\n",
    "\n",
    "class AgentState(TypedDict):\n",
    "    query : str # 사용자 질문\n",
    "    answer : str # 세율\n",
    "    tax_base_equation : str # 과세표준 계산 수식\n",
    "    tax_deduction : str # 공제액\n",
    "    market_ratio : str # 공정시장가액비율\n",
    "    tax_base : str # 과세표준 계산\n",
    "\n",
    "graph_builder = StateGraph(AgentState)"
   ],
   "id": "56f7dda619417389",
   "outputs": [],
   "execution_count": 6
  },
  {
   "metadata": {
    "ExecuteTime": {
     "end_time": "2025-07-14T22:15:43.709061Z",
     "start_time": "2025-07-14T22:15:43.705196Z"
    }
   },
   "cell_type": "code",
   "source": "query = '5억짜리 집 1채, 10억짜리 집 1채, 20억짜리 집 1채를 가지고 있을 때 세금을 얼마나 내나요?'",
   "id": "2f570304e78d7e21",
   "outputs": [],
   "execution_count": 7
  },
  {
   "metadata": {
    "ExecuteTime": {
     "end_time": "2025-07-14T22:25:05.445735Z",
     "start_time": "2025-07-14T22:25:04.789352Z"
    }
   },
   "cell_type": "code",
   "source": [
    "from langchain_openai import ChatOpenAI\n",
    "from langchain import hub\n",
    "from langchain_core.output_parsers import StrOutputParser\n",
    "from langchain_core.runnables import RunnablePassthrough\n",
    "from langchain.prompts import ChatPromptTemplate\n",
    "\n",
    "llm = ChatOpenAI(model=\"gpt-4o\")\n",
    "small_llm = ChatOpenAI(model=\"gpt-4o-mini\")\n",
    "\n",
    "rag_prompt = hub.pull(\"rlm/rag-prompt\")"
   ],
   "id": "acede6ffb726b68",
   "outputs": [],
   "execution_count": 17
  },
  {
   "metadata": {
    "ExecuteTime": {
     "end_time": "2025-07-14T22:25:50.697485Z",
     "start_time": "2025-07-14T22:25:50.689746Z"
    }
   },
   "cell_type": "code",
   "source": [
    "# 동적으로 context는 retriever로부터 가져오고 질문은 RunnablePassthrough()를 사용해 동적으로 질문을 받는다.\n",
    "tax_base_retrieval_chain = {'context' : retriever, 'question' : RunnablePassthrough()} | rag_prompt | llm | StrOutputParser()\n",
    "\n",
    "tax_base_equation_promt = ChatPromptTemplate.from_messages([\n",
    "    ('system', '사용자의 질문에서 과세표준을 계산하는 방법을 수식으로 나타내주세요. 부연 설명 없이 수식만 리턴해주세요'),\n",
    "    ('human', '{tax_base_equation_information}')\n",
    "])\n",
    "\n",
    "tax_base_equation_chain = (\n",
    "    {'tax_base_equation_information' : RunnablePassthrough()} | tax_base_equation_promt | llm | StrOutputParser()\n",
    ")\n",
    "\n",
    "tax_base_chain = {'tax_base_equation_information' : tax_base_retrieval_chain} | tax_base_equation_chain\n",
    "\n",
    "def get_tax_base_equation(state: AgentState) :\n",
    "    tax_base_equation_question = '주택에 대한 종합부동산세 계산시 과세표준을 계산하는 방법을 수식으로 표현해서 알려주세요'\n",
    "    tax_base_equation = tax_base_equation_chain.invoke(tax_base_equation_question)\n",
    "    return {'tax_base_equation' : tax_base_equation}"
   ],
   "id": "604742e14cb4c63d",
   "outputs": [],
   "execution_count": 20
  },
  {
   "metadata": {
    "ExecuteTime": {
     "end_time": "2025-07-14T22:25:55.525752Z",
     "start_time": "2025-07-14T22:25:53.897567Z"
    }
   },
   "cell_type": "code",
   "source": [
    "get_tax_base_equation({})\n",
    "\n",
    "# {'tax_base_equation': '과세표준 = 공시가격 × 공정시장가액 비율 - 기본공제액'}"
   ],
   "id": "6992783a37542cc4",
   "outputs": [
    {
     "data": {
      "text/plain": [
       "{'tax_base_equation': '과세표준 = 공시가격 × 공정시장가액 비율 - 기본공제액'}"
      ]
     },
     "execution_count": 21,
     "metadata": {},
     "output_type": "execute_result"
    }
   ],
   "execution_count": 21
  },
  {
   "metadata": {},
   "cell_type": "code",
   "outputs": [],
   "execution_count": null,
   "source": [
    "tax_deduction_chain = (\n",
    "    {'context' : retriever, 'question' : RunnablePassthrough()}\n",
    "    | rag_prompt\n",
    "    | llm\n",
    "    | StrOutputParser()\n",
    ")\n",
    "\n",
    "def get_tax_deduction(state: AgentState) :\n",
    "    tax_deduction_question = '주택에 대한 종합부동산세 계산시 공제금액을 알려주세요'\n",
    "    tax_deduction = tax_deduction_chain.invoke(tax_deduction_question)\n",
    "    return {'tax_deduction' : tax_deduction}"
   ],
   "id": "e7ad01123d89013d"
  }
 ],
 "metadata": {
  "kernelspec": {
   "display_name": "Python 3",
   "language": "python",
   "name": "python3"
  },
  "language_info": {
   "codemirror_mode": {
    "name": "ipython",
    "version": 2
   },
   "file_extension": ".py",
   "mimetype": "text/x-python",
   "name": "python",
   "nbconvert_exporter": "python",
   "pygments_lexer": "ipython2",
   "version": "2.7.6"
  }
 },
 "nbformat": 4,
 "nbformat_minor": 5
}
