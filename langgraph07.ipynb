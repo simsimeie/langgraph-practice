{
 "cells": [
  {
   "cell_type": "code",
   "id": "initial_id",
   "metadata": {
    "collapsed": true,
    "ExecuteTime": {
     "end_time": "2025-07-14T22:15:41.682553Z",
     "start_time": "2025-07-14T22:15:41.659482Z"
    }
   },
   "source": [
    "from dotenv import load_dotenv\n",
    "\n",
    "load_dotenv()"
   ],
   "outputs": [
    {
     "data": {
      "text/plain": [
       "True"
      ]
     },
     "execution_count": 3,
     "metadata": {},
     "output_type": "execute_result"
    }
   ],
   "execution_count": 3
  },
  {
   "metadata": {
    "ExecuteTime": {
     "end_time": "2025-07-14T22:15:41.786597Z",
     "start_time": "2025-07-14T22:15:41.781626Z"
    }
   },
   "cell_type": "code",
   "source": [
    "# SQLite3 버전 문제 해결: Chroma는 SQLite3 3.35.0 이상이 필요하지만 시스템에는 낮은 버전이 설치되어 있음\n",
    "# pysqlite3-binary를 사용하여 더 높은 버전의 SQLite3을 제공\n",
    "import sys\n",
    "import pysqlite3\n",
    "\n",
    "# 기존 sqlite3 모듈을 pysqlite3으로 대체\n",
    "sys.modules['sqlite3'] = pysqlite3\n",
    "print(f\"Using SQLite version: {pysqlite3.sqlite_version}\")"
   ],
   "id": "e081798ef71dcaee",
   "outputs": [
    {
     "name": "stdout",
     "output_type": "stream",
     "text": [
      "Using SQLite version: 3.46.1\n"
     ]
    }
   ],
   "execution_count": 4
  },
  {
   "metadata": {
    "ExecuteTime": {
     "end_time": "2025-07-14T22:15:43.632313Z",
     "start_time": "2025-07-14T22:15:41.840894Z"
    }
   },
   "cell_type": "code",
   "source": [
    "from langchain_chroma import Chroma\n",
    "from langchain_openai import OpenAIEmbeddings\n",
    "import chromadb\n",
    "\n",
    "client = chromadb.PersistentClient('./real_estate_tax_collection')\n",
    "\n",
    "embedding_function = OpenAIEmbeddings(model='text-embedding-3-large')\n",
    "\n",
    "vector_store = Chroma(\n",
    "    client=client,\n",
    "    embedding_function=embedding_function,\n",
    "    collection_name='real_estate_tax'\n",
    ")\n",
    "\n",
    "retriever = vector_store.as_retriever(search_kwargs={\"k\": 3})"
   ],
   "id": "3be03347defe5c27",
   "outputs": [],
   "execution_count": 5
  },
  {
   "metadata": {
    "ExecuteTime": {
     "end_time": "2025-07-15T03:34:18.186402Z",
     "start_time": "2025-07-15T03:34:18.181359Z"
    }
   },
   "cell_type": "code",
   "source": [
    "from typing_extensions import TypedDict\n",
    "from langgraph.graph import StateGraph\n",
    "\n",
    "class AgentState(TypedDict):\n",
    "    query : str # 사용자 질문\n",
    "    answer : str # 세율\n",
    "    tax_base_equation : str # 과세표준 계산 수식\n",
    "    tax_deduction : str # 공제액\n",
    "    market_ratio : str # 공정시장가액비율\n",
    "    tax_base : str # 과세표준 계산\n",
    "\n",
    "graph_builder = StateGraph(AgentState)"
   ],
   "id": "56f7dda619417389",
   "outputs": [],
   "execution_count": 68
  },
  {
   "metadata": {
    "ExecuteTime": {
     "end_time": "2025-07-14T22:15:43.709061Z",
     "start_time": "2025-07-14T22:15:43.705196Z"
    }
   },
   "cell_type": "code",
   "source": "query = '5억짜리 집 1채, 10억짜리 집 1채, 20억짜리 집 1채를 가지고 있을 때 세금을 얼마나 내나요?'",
   "id": "2f570304e78d7e21",
   "outputs": [],
   "execution_count": 7
  },
  {
   "metadata": {
    "ExecuteTime": {
     "end_time": "2025-07-14T22:25:05.445735Z",
     "start_time": "2025-07-14T22:25:04.789352Z"
    }
   },
   "cell_type": "code",
   "source": [
    "from langchain_openai import ChatOpenAI\n",
    "from langchain import hub\n",
    "from langchain_core.output_parsers import StrOutputParser\n",
    "from langchain_core.runnables import RunnablePassthrough\n",
    "from langchain.prompts import ChatPromptTemplate\n",
    "\n",
    "llm = ChatOpenAI(model=\"gpt-4o\")\n",
    "small_llm = ChatOpenAI(model=\"gpt-4o-mini\")\n",
    "\n",
    "rag_prompt = hub.pull(\"rlm/rag-prompt\")"
   ],
   "id": "acede6ffb726b68",
   "outputs": [],
   "execution_count": 17
  },
  {
   "metadata": {
    "ExecuteTime": {
     "end_time": "2025-07-15T11:22:57.752027Z",
     "start_time": "2025-07-15T11:22:57.741506Z"
    }
   },
   "cell_type": "code",
   "source": [
    "# 동적으로 context는 retriever로부터 가져오고 질문은 RunnablePassthrough()를 사용해 동적으로 질문을 받는다.\n",
    "tax_base_retrieval_chain = {'context' : retriever, 'question' : RunnablePassthrough()} | rag_prompt | llm | StrOutputParser()\n",
    "\n",
    "tax_base_equation_prompt = ChatPromptTemplate.from_messages([\n",
    "    ('system', '사용자의 질문에서 과세표준을 계산하는 방법을 수식으로 나타내주세요. 부연 설명 없이 수식만 리턴해주세요'),\n",
    "    ('human', '{tax_base_equation_information}')\n",
    "])\n",
    "\n",
    "tax_base_equation_chain = (\n",
    "    {'tax_base_equation_information' : RunnablePassthrough()} | tax_base_equation_prompt | llm | StrOutputParser()\n",
    ")\n",
    "\n",
    "tax_base_chain = {'tax_base_equation_information' : tax_base_retrieval_chain} | tax_base_equation_chain\n",
    "\n",
    "def get_tax_base_equation(state: AgentState) :\n",
    "    tax_base_equation_question = '주택에 대한 종합부동산세 계산시 과세표준을 계산하는 방법을 수식으로 표현해서 알려주세요'\n",
    "    tax_base_equation = tax_base_chain.invoke(tax_base_equation_question)\n",
    "    return {'tax_base_equation' : tax_base_equation}"
   ],
   "id": "604742e14cb4c63d",
   "outputs": [],
   "execution_count": 78
  },
  {
   "metadata": {
    "ExecuteTime": {
     "end_time": "2025-07-15T11:23:05.599920Z",
     "start_time": "2025-07-15T11:23:01.218647Z"
    }
   },
   "cell_type": "code",
   "source": [
    "get_tax_base_equation({})\n",
    "\n",
    "# {'tax_base_equation': '과세표준 = 공시가격 × 공정시장가액 비율 - 기본공제액'}"
   ],
   "id": "6992783a37542cc4",
   "outputs": [
    {
     "data": {
      "text/plain": [
       "{'tax_base_equation': '과세표준 = (주택의 공시가격 합계 - 공제금액) × 공정시장가액비율'}"
      ]
     },
     "execution_count": 79,
     "metadata": {},
     "output_type": "execute_result"
    }
   ],
   "execution_count": 79
  },
  {
   "metadata": {
    "ExecuteTime": {
     "end_time": "2025-07-15T02:46:37.782359Z",
     "start_time": "2025-07-15T02:46:37.778614Z"
    }
   },
   "cell_type": "code",
   "source": [
    "tax_deduction_chain = (\n",
    "    {'context' : retriever, 'question' : RunnablePassthrough()}\n",
    "    | rag_prompt\n",
    "    | llm\n",
    "    | StrOutputParser()\n",
    ")\n",
    "\n",
    "def get_tax_deduction(state: AgentState) :\n",
    "    tax_deduction_question = '주택에 대한 종합부동산세 계산시 공제금액을 알려주세요'\n",
    "    tax_deduction = tax_deduction_chain.invoke(tax_deduction_question)\n",
    "    return {'tax_deduction' : tax_deduction}"
   ],
   "id": "e7ad01123d89013d",
   "outputs": [],
   "execution_count": 23
  },
  {
   "metadata": {
    "ExecuteTime": {
     "end_time": "2025-07-15T02:46:42.864478Z",
     "start_time": "2025-07-15T02:46:39.971275Z"
    }
   },
   "cell_type": "code",
   "source": "get_tax_deduction({})",
   "id": "946e4a6dcc493dc4",
   "outputs": [
    {
     "data": {
      "text/plain": [
       "{'tax_deduction': '주택에 대한 종합부동산세 계산 시 공제금액은 1세대 1주택자에게 12억 원, 법인 또는 단체에는 6억 원, 그 외의 경우에는 9억 원입니다. 만 60세 이상의 경우, 연령에 따라 최대 40%까지 추가 공제를 받을 수 있습니다.'}"
      ]
     },
     "execution_count": 24,
     "metadata": {},
     "output_type": "execute_result"
    }
   ],
   "execution_count": 24
  },
  {
   "metadata": {
    "ExecuteTime": {
     "end_time": "2025-07-15T03:02:24.425882Z",
     "start_time": "2025-07-15T03:02:24.421841Z"
    }
   },
   "cell_type": "code",
   "source": [
    "from langchain_community.tools import TavilySearchResults\n",
    "\n",
    "tavily_search_tool = TavilySearchResults(\n",
    "    max_results=2,\n",
    "    search_depth=\"advanced\",\n",
    "    include_answer=True,\n",
    "    include_raw_content=True,\n",
    "    include_images=True,\n",
    ")\n",
    "\n",
    "tax_market_ratio_prompt = ChatPromptTemplate.from_messages([\n",
    "    ('system', '아래 정보를 기반으로 공정시장 가액 비율을 계산해주세요\\n\\nContext:\\n{context}'),\n",
    "    ('human', '{query}')\n",
    "])\n",
    "\n",
    "def tax_market_ratio(state: AgentState) :\n",
    "    query = '2024년 주택 공시가격 공정시장가액비율은 몇%인가요?'\n",
    "    context = tavily_search_tool.invoke(query)\n",
    "    tax_market_ratio_chain = tax_market_ratio_prompt | llm | StrOutputParser()\n",
    "    result = tax_market_ratio_chain.invoke({'context' : context, 'query' : query})\n",
    "\n",
    "    return {'market_ratio' : result}\n"
   ],
   "id": "b6512f3d57f499eb",
   "outputs": [],
   "execution_count": 42
  },
  {
   "metadata": {
    "ExecuteTime": {
     "end_time": "2025-07-15T03:02:33.765895Z",
     "start_time": "2025-07-15T03:02:27.028503Z"
    }
   },
   "cell_type": "code",
   "source": "tax_market_ratio({})",
   "id": "c4dbf0abd72f88db",
   "outputs": [
    {
     "data": {
      "text/plain": [
       "{'market_ratio': '2024년 주택 공시가격 공정시장가액비율은 60%입니다. 단, 1주택자의 경우 특별히 공정시장가액비율이 조정되어, 재산세 과표가 3억 원 이하이면 43%, 3억 원 초과 6억 원 이하이면 44%, 6억 원 초과이면 45%가 적용됩니다.'}"
      ]
     },
     "execution_count": 43,
     "metadata": {},
     "output_type": "execute_result"
    }
   ],
   "execution_count": 43
  },
  {
   "metadata": {
    "ExecuteTime": {
     "end_time": "2025-07-15T03:25:01.550645Z",
     "start_time": "2025-07-15T03:25:01.547033Z"
    }
   },
   "cell_type": "code",
   "source": [
    "from langchain_core.prompts import PromptTemplate\n",
    "\n",
    "tax_base_calculation_prompt = PromptTemplate.from_template(\"\"\"\n",
    "줘진 내용을 기반으로 과세표준을 계산해주세요\n",
    "\n",
    "과세표준 계산 공식 : {tax_base_equation}\n",
    "공제금액 : {tax_deduction}\n",
    "공정시장가액비율 : {market_ratio}\n",
    "사용자 주택 공시가격 정보 : {query}\n",
    "\"\"\")\n",
    "\n",
    "def calculate_tax_base(state: AgentState) :\n",
    "    tax_base_equation = state['tax_base_equation']\n",
    "    tax_deduction = state['tax_deduction']\n",
    "    market_ratio = state['market_ratio']\n",
    "    query = state['query']\n",
    "    tax_base_calculation_chain = tax_base_calculation_prompt | llm | StrOutputParser()\n",
    "\n",
    "    tax_base = tax_base_calculation_chain.invoke({\n",
    "        'tax_base_equation' : tax_base_equation,\n",
    "        'tax_deduction' : tax_deduction,\n",
    "        'market_ratio' : market_ratio,\n",
    "        'query' : query\n",
    "    })\n",
    "\n",
    "    return {'tax_base' : tax_base}"
   ],
   "id": "ca74d61e20b5dd0e",
   "outputs": [],
   "execution_count": 50
  },
  {
   "metadata": {
    "ExecuteTime": {
     "end_time": "2025-07-15T03:28:10.034381Z",
     "start_time": "2025-07-15T03:28:10.031236Z"
    }
   },
   "cell_type": "code",
   "source": [
    "initial_state = {\n",
    "    'query' : query,\n",
    "    'tax_base_equation': '과세표준 = 공시가격 × 공정시장가액 비율 - 기본공제액',\n",
    "    'tax_deduction': \"\"\"주택에 대한 종합부동산세 계산 시 공제금액은 1세대 1주택자에게 12억 원, 법인 또는 단체에는 6억 원, 그 외의 경우에는 9억 원입니다. 만 60세 이상의 경우, 연령에 따라 최대 40%까지 추가 공제를 받을 수 있습니다.\"\"\",\n",
    "    'market_ratio' : '2024년 주택 공시가격 공정시장가액비율은 60%입니다.',\n",
    "    'tax_base' : '''주어진 정보를 바탕으로 과세표준을 계산해보겠습니다. 사용자는 총 3채의 집을 보유하고 있습니다:\n",
    "\n",
    "    1. **5억 원짜리 집**\n",
    "    2. **10억 원짜리 집**\n",
    "    3. **20억 원짜리 집**\n",
    "\n",
    "    총 공시가격: 5억 + 10억 + 20억 = 35억 원\n",
    "\n",
    "    과세표준 계산 공식:\n",
    "    과세표준 = 공시가격 × 공정시장가액 비율 - 기본공제액\n",
    "\n",
    "    2024년 주택 공시가격 공정시장가액비율은 60%입니다.\n",
    "\n",
    "    따라서 과세표준은 다음과 같이 계산됩니다:\n",
    "    - 총 공시가격의 60% = 35억 × 0.6 = 21억 원\n",
    "\n",
    "    이제 기본공제액을 적용해야 합니다. 공제금액은 조건에 따라 다릅니다. 만약 사용자가 1세대 1주택자에 해당하지 않다면, 9억 원의 공제를 받을 수 있습니다(다주택자일 가능성이 높음).\n",
    "\n",
    "    그러므로:\n",
    "    - 과세표준 = 21억 원 - 9억 원 = 12억 원\n",
    "\n",
    "    이 결과는 연령에 따른 추가 공제는 적용되지 않은 수치이며, 해당 정보가 주어지지 않았습니다. 만약 연령에 따른 추가 공제 정보를 제공한다면, 과세표준은 더욱 낮아질 수 있습니다.\n",
    "\n",
    "    결론적으로, 기본적인 조건 하에 사용자의 과세표준은 12억 원이 됩니다. 추가 정보가 주어지면 그에 따라 조정될 수 있습니다.'''\n",
    "}"
   ],
   "id": "3fcdbfadbfaf2db8",
   "outputs": [],
   "execution_count": 60
  },
  {
   "metadata": {
    "ExecuteTime": {
     "end_time": "2025-07-15T03:25:16.899661Z",
     "start_time": "2025-07-15T03:25:08.616284Z"
    }
   },
   "cell_type": "code",
   "source": "calculate_tax_base(initial_state)",
   "id": "c60858d72337ac11",
   "outputs": [
    {
     "data": {
      "text/plain": [
       "{'tax_base': '주어진 정보를 바탕으로 과세표준을 계산해보겠습니다. 사용자는 총 3채의 집을 보유하고 있습니다: \\n\\n1. **5억 원짜리 집**\\n2. **10억 원짜리 집**\\n3. **20억 원짜리 집**\\n\\n총 공시가격: 5억 + 10억 + 20억 = 35억 원\\n\\n과세표준 계산 공식: \\n과세표준 = 공시가격 × 공정시장가액 비율 - 기본공제액\\n\\n2024년 주택 공시가격 공정시장가액비율은 60%입니다. \\n\\n따라서 과세표준은 다음과 같이 계산됩니다:\\n- 총 공시가격의 60% = 35억 × 0.6 = 21억 원\\n\\n이제 기본공제액을 적용해야 합니다. 공제금액은 조건에 따라 다릅니다. 만약 사용자가 1세대 1주택자에 해당하지 않다면, 9억 원의 공제를 받을 수 있습니다(다주택자일 가능성이 높음).\\n\\n그러므로:\\n- 과세표준 = 21억 원 - 9억 원 = 12억 원\\n\\n이 결과는 연령에 따른 추가 공제는 적용되지 않은 수치이며, 해당 정보가 주어지지 않았습니다. 만약 연령에 따른 추가 공제 정보를 제공한다면, 과세표준은 더욱 낮아질 수 있습니다. \\n\\n결론적으로, 기본적인 조건 하에 사용자의 과세표준은 12억 원이 됩니다. 추가 정보가 주어지면 그에 따라 조정될 수 있습니다.'}"
      ]
     },
     "execution_count": 52,
     "metadata": {},
     "output_type": "execute_result"
    }
   ],
   "execution_count": 52
  },
  {
   "metadata": {
    "ExecuteTime": {
     "end_time": "2025-07-15T03:27:00.598608Z",
     "start_time": "2025-07-15T03:27:00.594821Z"
    }
   },
   "cell_type": "code",
   "source": [
    "tax_rate_calculation_prompt = ChatPromptTemplate.from_messages([\n",
    "    ('system', '''당신은 종합부동산세 계산 전문가 입니다. 아래 문서를 참조해서 사용자의 질문에 대한 종합부동산세를 계산해주세요\n",
    "\n",
    "    종합부동산세 세율:{context}\n",
    "    '''),\n",
    "    ('human', '''과세표준과 사용자가 소지한 주택의 수가 아래와 같을 때 종합 부동산세를 계산해주세요\n",
    "\n",
    "    과세표준 : {tax_base}\n",
    "    주택 수 : {query}'''),\n",
    "])\n",
    "\n",
    "def calculate_tax_rate(state:AgentState) :\n",
    "    query = state['query']\n",
    "    tax_base = state['tax_base']\n",
    "    context = retriever.invoke(query)\n",
    "    tax_rate_chain = (\n",
    "        tax_rate_calculation_prompt | llm | StrOutputParser()\n",
    "    )\n",
    "    tax_rate = tax_rate_chain.invoke(\n",
    "        {\n",
    "            'context' : context,\n",
    "            'query' : query,\n",
    "            'tax_base' : tax_base\n",
    "        }\n",
    "    )\n",
    "    print(f'tax_rate == {tax_rate}')\n",
    "    return {'answer' : tax_rate}\n"
   ],
   "id": "3690f5869f53fdcc",
   "outputs": [],
   "execution_count": 57
  },
  {
   "metadata": {
    "ExecuteTime": {
     "end_time": "2025-07-15T03:27:32.501794Z",
     "start_time": "2025-07-15T03:27:10.552023Z"
    }
   },
   "cell_type": "code",
   "source": "calculate_tax_rate(initial_state)",
   "id": "3892a074efbf04f2",
   "outputs": [
    {
     "name": "stdout",
     "output_type": "stream",
     "text": [
      "tax_rate == 사용자는 총 3채의 집을 보유하고 있으므로, 3주택 이상 소유한 경우의 세율이 적용됩니다. 주어진 과세표준은 12억 원입니다. 3주택 이상 소유한 경우의 세율표에 따르면, 과세표준이 12억 원일 경우 세율은 다음과 같습니다:\n",
      "\n",
      "과세표준이 6억 원 초과 12억 원 이하인 경우:\n",
      "- 기본 세액: 360만 원\n",
      "- 6억 원을 초과하는 금액의 1000분의 10\n",
      "\n",
      "따라서, 과세표준 12억 원에 대한 계산은 다음과 같습니다:\n",
      "\n",
      "1. 12억 원에서 6억 원을 초과하는 금액: 12억 원 - 6억 원 = 6억 원\n",
      "2. 초과금액에 대한 세금: 6억 원 × 0.0010 = 600만 원\n",
      "3. 총 세액: 360만 원 + 600만 원 = 960만 원\n",
      "\n",
      "따라서 사용자가 내야 하는 종합부동산세는 960만 원입니다.\n"
     ]
    },
    {
     "data": {
      "text/plain": [
       "{'answer': '사용자는 총 3채의 집을 보유하고 있으므로, 3주택 이상 소유한 경우의 세율이 적용됩니다. 주어진 과세표준은 12억 원입니다. 3주택 이상 소유한 경우의 세율표에 따르면, 과세표준이 12억 원일 경우 세율은 다음과 같습니다:\\n\\n과세표준이 6억 원 초과 12억 원 이하인 경우:\\n- 기본 세액: 360만 원\\n- 6억 원을 초과하는 금액의 1000분의 10\\n\\n따라서, 과세표준 12억 원에 대한 계산은 다음과 같습니다:\\n\\n1. 12억 원에서 6억 원을 초과하는 금액: 12억 원 - 6억 원 = 6억 원\\n2. 초과금액에 대한 세금: 6억 원 × 0.0010 = 600만 원\\n3. 총 세액: 360만 원 + 600만 원 = 960만 원\\n\\n따라서 사용자가 내야 하는 종합부동산세는 960만 원입니다.'}"
      ]
     },
     "execution_count": 59,
     "metadata": {},
     "output_type": "execute_result"
    }
   ],
   "execution_count": 59
  },
  {
   "metadata": {
    "ExecuteTime": {
     "end_time": "2025-07-15T03:36:57.476920Z",
     "start_time": "2025-07-15T03:36:57.472184Z"
    }
   },
   "cell_type": "code",
   "source": [
    "graph_builder.nodes.clear()\n",
    "graph_builder.add_node('get_tax_base_equation', get_tax_base_equation)\n",
    "graph_builder.add_node('get_tax_deduction', get_tax_deduction)\n",
    "graph_builder.add_node('tax_market_ratio', tax_market_ratio)\n",
    "graph_builder.add_node('calculate_tax_base', calculate_tax_base)\n",
    "graph_builder.add_node('calculate_tax_rate', calculate_tax_rate)"
   ],
   "id": "5b33e91b05a59b90",
   "outputs": [
    {
     "data": {
      "text/plain": [
       "<langgraph.graph.state.StateGraph at 0x7fcc52672ad0>"
      ]
     },
     "execution_count": 72,
     "metadata": {},
     "output_type": "execute_result"
    }
   ],
   "execution_count": 72
  },
  {
   "metadata": {
    "ExecuteTime": {
     "end_time": "2025-07-15T03:37:00.312769Z",
     "start_time": "2025-07-15T03:37:00.307926Z"
    }
   },
   "cell_type": "code",
   "source": [
    "from langgraph.graph import START, END\n",
    "\n",
    "graph_builder.edges.clear()\n",
    "\n",
    "graph_builder.add_edge(START, 'get_tax_base_equation')\n",
    "graph_builder.add_edge(START, 'get_tax_deduction')\n",
    "graph_builder.add_edge(START, 'tax_market_ratio')\n",
    "graph_builder.add_edge('get_tax_base_equation', 'calculate_tax_base')\n",
    "graph_builder.add_edge('get_tax_deduction', 'calculate_tax_base')\n",
    "graph_builder.add_edge('tax_market_ratio', 'calculate_tax_base')\n",
    "graph_builder.add_edge('calculate_tax_base', 'calculate_tax_rate')\n",
    "graph_builder.add_edge('calculate_tax_rate', END)\n"
   ],
   "id": "4b98ad19e15352c5",
   "outputs": [
    {
     "data": {
      "text/plain": [
       "<langgraph.graph.state.StateGraph at 0x7fcc52672ad0>"
      ]
     },
     "execution_count": 73,
     "metadata": {},
     "output_type": "execute_result"
    }
   ],
   "execution_count": 73
  },
  {
   "metadata": {
    "ExecuteTime": {
     "end_time": "2025-07-15T03:37:04.678193Z",
     "start_time": "2025-07-15T03:37:04.671712Z"
    }
   },
   "cell_type": "code",
   "source": "graph = graph_builder.compile()",
   "id": "111c0355c23dbe83",
   "outputs": [],
   "execution_count": 74
  },
  {
   "metadata": {
    "ExecuteTime": {
     "end_time": "2025-07-15T03:37:59.828406Z",
     "start_time": "2025-07-15T03:37:58.732053Z"
    }
   },
   "cell_type": "code",
   "source": [
    "from IPython.display import display, Image\n",
    "display(Image(graph.get_graph().draw_mermaid_png()))"
   ],
   "id": "d402362f8ed63c41",
   "outputs": [
    {
     "data": {
      "image/png": "[encoded data removed]",
      "text/plain": [
       "<IPython.core.display.Image object>"
      ]
     },
     "metadata": {},
     "output_type": "display_data"
    }
   ],
   "execution_count": 76
  },
  {
   "metadata": {
    "ExecuteTime": {
     "end_time": "2025-07-15T03:38:59.160845Z",
     "start_time": "2025-07-15T03:38:39.559305Z"
    }
   },
   "cell_type": "code",
   "source": [
    "inital_state = {'query' : query}\n",
    "graph.invoke(inital_state)"
   ],
   "id": "e67818cbe2bb44eb",
   "outputs": [
    {
     "name": "stdout",
     "output_type": "stream",
     "text": [
      "tax_rate == 사용자가 소지한 주택의 과세표준과 주택 수에 따른 종합부동산세를 계산해봅시다. 사용자는 총 3채의 주택을 보유하고 있으며, 총 과세표준은 3억 원입니다. 3주택 이상 보유한 경우의 세율을 적용해야 합니다.\n",
      "\n",
      "| 과세표준              | 세율                                  |\n",
      "|---------------------|-------------------------------------|\n",
      "| 3억 원 이하           | 1천분의 5                              |\n",
      "\n",
      "따라서, 종합부동산세는 다음과 같이 계산됩니다.\n",
      "\n",
      "- 과세표준: 3억 원\n",
      "- 세율: 1천분의 5\n",
      "\n",
      "계산식은 다음과 같습니다:\n",
      "\n",
      "\\[ \\text{세금} = \\text{과세표준} \\times \\left(\\frac{\\text{세율}}{1000}\\right) \\]\n",
      "\n",
      "따라서,\n",
      "\n",
      "\\[ \\text{세금} = 3억 원 \\times \\left(\\frac{5}{1000}\\right) \\]\n",
      "\n",
      "\\[ \\text{세금} = 1,500,000 \\text{ 원} \\]\n",
      "\n",
      "사용자는 총 150만 원의 종합부동산세를 납부해야 합니다.\n"
     ]
    },
    {
     "data": {
      "text/plain": [
       "{'query': '5억짜리 집 1채, 10억짜리 집 1채, 20억짜리 집 1채를 가지고 있을 때 세금을 얼마나 내나요?',\n",
       " 'answer': '사용자가 소지한 주택의 과세표준과 주택 수에 따른 종합부동산세를 계산해봅시다. 사용자는 총 3채의 주택을 보유하고 있으며, 총 과세표준은 3억 원입니다. 3주택 이상 보유한 경우의 세율을 적용해야 합니다.\\n\\n| 과세표준              | 세율                                  |\\n|---------------------|-------------------------------------|\\n| 3억 원 이하           | 1천분의 5                              |\\n\\n따라서, 종합부동산세는 다음과 같이 계산됩니다.\\n\\n- 과세표준: 3억 원\\n- 세율: 1천분의 5\\n\\n계산식은 다음과 같습니다:\\n\\n\\\\[ \\\\text{세금} = \\\\text{과세표준} \\\\times \\\\left(\\\\frac{\\\\text{세율}}{1000}\\\\right) \\\\]\\n\\n따라서,\\n\\n\\\\[ \\\\text{세금} = 3억 원 \\\\times \\\\left(\\\\frac{5}{1000}\\\\right) \\\\]\\n\\n\\\\[ \\\\text{세금} = 1,500,000 \\\\text{ 원} \\\\]\\n\\n사용자는 총 150만 원의 종합부동산세를 납부해야 합니다.',\n",
       " 'tax_base_equation': '과세표준 = (공시가격 × 공정시장가액비율) - 기본공제',\n",
       " 'tax_deduction': '주택에 대한 종합부동산세 계산 시 공제금액은 1세대 1주택자의 경우 12억 원, 법인 또는 법인으로 보는 단체는 6억 원, 그 외의 경우에는 9억 원입니다.',\n",
       " 'market_ratio': '2024년 주택 공시가격의 공정시장가액비율은 60%입니다.',\n",
       " 'tax_base': '사용자의 경우, 5억 원, 10억 원, 20억 원짜리 주택을 각각 한 채씩 소유하고 있습니다. 이를 바탕으로 각각의 주택에 대한 과세표준을 계산해보겠습니다.\\n\\n1. **5억 원짜리 주택**\\n   - 공시가격: 5억 원\\n   - 공정시장가액비율: 60%\\n   - 계산식: 과세표준 = (5억 원 × 0.6) - 공제금액\\n\\n2. **10억 원짜리 주택**\\n   - 공시가격: 10억 원\\n   - 공정시장가액비율: 60%\\n   - 계산식: 과세표준 = (10억 원 × 0.6) - 공제금액\\n\\n3. **20억 원짜리 주택**\\n   - 공시가격: 20억 원\\n   - 공정시장가액비율: 60%\\n   - 계산식: 과세표준 = (20억 원 × 0.6) - 공제금액\\n\\n이제 공제금액을 고려해야 하는데, 1세대 1주택자가 아닌 경우 각 주택의 공제금액은 9억 원입니다.\\n\\n각 주택의 과세표준을 계산해보겠습니다:\\n\\n1. **5억 원짜리 주택**\\n   - 과세표준 = (5억 원 × 0.6) - 9억 원\\n   - 과세표준 = 3억 원 - 9억 원 = 0 (과세표준은 음수가 될 수 없으므로 0으로 설정)\\n\\n2. **10억 원짜리 주택**\\n   - 과세표준 = (10억 원 × 0.6) - 9억 원\\n   - 과세표준 = 6억 원 - 9억 원 = 0 (과세표준은 음수가 될 수 없으므로 0으로 설정)\\n\\n3. **20억 원짜리 주택**\\n   - 과세표준 = (20억 원 × 0.6) - 9억 원\\n   - 과세표준 = 12억 원 - 9억 원 = 3억 원\\n\\n따라서, 종합부동산세를 계산하기 위한 총 과세표준은 3억 원입니다. \\n\\n이 금액에 대해 종합부동산세율을 적용하여 최종 세금을 계산해야 하지만, 주어진 정보만으로는 세율을 알 수 없어 여기까지 계산할 수 있습니다. 세율은 지역 및 세금 부과 규정에 따라 다를 수 있습니다.'}"
      ]
     },
     "execution_count": 77,
     "metadata": {},
     "output_type": "execute_result"
    }
   ],
   "execution_count": 77
  }
 ],
 "metadata": {
  "kernelspec": {
   "display_name": "Python 3",
   "language": "python",
   "name": "python3"
  },
  "language_info": {
   "codemirror_mode": {
    "name": "ipython",
    "version": 2
   },
   "file_extension": ".py",
   "mimetype": "text/x-python",
   "name": "python",
   "nbconvert_exporter": "python",
   "pygments_lexer": "ipython2",
   "version": "2.7.6"
  }
 },
 "nbformat": 4,
 "nbformat_minor": 5
}
