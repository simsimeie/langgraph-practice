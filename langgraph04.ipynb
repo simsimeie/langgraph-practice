{
 "cells": [
  {
   "cell_type": "code",
   "id": "initial_id",
   "metadata": {
    "collapsed": true,
    "ExecuteTime": {
     "end_time": "2025-07-08T22:33:06.578582Z",
     "start_time": "2025-07-08T22:33:06.568927Z"
    }
   },
   "source": [
    "from dotenv import load_dotenv\n",
    "\n",
    "load_dotenv()"
   ],
   "outputs": [
    {
     "data": {
      "text/plain": [
       "True"
      ]
     },
     "execution_count": 1,
     "metadata": {},
     "output_type": "execute_result"
    }
   ],
   "execution_count": 1
  },
  {
   "metadata": {
    "ExecuteTime": {
     "end_time": "2025-07-08T22:33:06.769289Z",
     "start_time": "2025-07-08T22:33:06.765291Z"
    }
   },
   "cell_type": "code",
   "source": [
    "# SQLite3 버전 문제 해결: Chroma는 SQLite3 3.35.0 이상이 필요하지만 시스템에는 낮은 버전이 설치되어 있음\n",
    "# pysqlite3-binary를 사용하여 더 높은 버전의 SQLite3을 제공\n",
    "import sys\n",
    "import pysqlite3\n",
    "# 기존 sqlite3 모듈을 pysqlite3으로 대체\n",
    "sys.modules['sqlite3'] = pysqlite3\n",
    "print(f\"Using SQLite version: {pysqlite3.sqlite_version}\")"
   ],
   "id": "5e6381a5439e8b05",
   "outputs": [
    {
     "name": "stdout",
     "output_type": "stream",
     "text": [
      "Using SQLite version: 3.46.1\n"
     ]
    }
   ],
   "execution_count": 2
  },
  {
   "metadata": {
    "ExecuteTime": {
     "end_time": "2025-07-08T22:33:08.326879Z",
     "start_time": "2025-07-08T22:33:06.819217Z"
    }
   },
   "cell_type": "code",
   "source": [
    "import chromadb\n",
    "from langchain_chroma import Chroma\n",
    "from langchain_openai import OpenAIEmbeddings\n",
    "\n",
    "# ChromaDB 클라이언트를 생성합니다.\n",
    "client = chromadb.PersistentClient(path='./brief')\n",
    "\n",
    "\n",
    "embedding_function = OpenAIEmbeddings(model='text-embedding-3-large')\n",
    "\n",
    "# 컬랙션이 이미 존재할 때는 Chroma 클래스 생성자 사용하여 객체 생성\n",
    "vector_store = Chroma(\n",
    "    client=client,\n",
    "    embedding_function=embedding_function,\n",
    "    collection_name = 'brief'\n",
    ")\n",
    "\n",
    "retriever = vector_store.as_retriever(search_kwargs={\"k\": 3})"
   ],
   "id": "3a6ea9f8c86850a8",
   "outputs": [],
   "execution_count": 3
  },
  {
   "metadata": {
    "ExecuteTime": {
     "end_time": "2025-07-08T22:33:08.341969Z",
     "start_time": "2025-07-08T22:33:08.339395Z"
    }
   },
   "cell_type": "code",
   "source": [
    "from typing_extensions import List, TypedDict\n",
    "from langchain_core.documents import Document\n",
    "\n",
    "\n",
    "class AgentState(TypedDict):\n",
    "    query: str\n",
    "    context: List[Document]\n",
    "    answer: str"
   ],
   "id": "761dffdf40d7c1c9",
   "outputs": [],
   "execution_count": 4
  },
  {
   "metadata": {
    "ExecuteTime": {
     "end_time": "2025-07-08T22:33:08.398959Z",
     "start_time": "2025-07-08T22:33:08.396375Z"
    }
   },
   "cell_type": "code",
   "source": [
    "def retrieve(state: AgentState):\n",
    "    query = state['query']\n",
    "    docs = retriever.invoke(query)\n",
    "    return {'context': docs}"
   ],
   "id": "79413b88fec1fa20",
   "outputs": [],
   "execution_count": 5
  },
  {
   "metadata": {
    "ExecuteTime": {
     "end_time": "2025-07-08T22:33:08.463368Z",
     "start_time": "2025-07-08T22:33:08.446965Z"
    }
   },
   "cell_type": "code",
   "source": [
    "from langchain_openai import ChatOpenAI\n",
    "\n",
    "llm = ChatOpenAI(model_name=\"gpt-4o\")"
   ],
   "id": "5de5e6bf31bc2784",
   "outputs": [],
   "execution_count": 6
  },
  {
   "metadata": {
    "ExecuteTime": {
     "end_time": "2025-07-08T22:33:09.057109Z",
     "start_time": "2025-07-08T22:33:08.504675Z"
    }
   },
   "cell_type": "code",
   "source": [
    "# Create a LANGSMITH_API_KEY in Settings > API Keys\n",
    "from langsmith import Client\n",
    "from langchain_openai import ChatOpenAI\n",
    "\n",
    "client = Client()\n",
    "generate_prompt = client.pull_prompt(\"rlm/rag-prompt\", include_model=True)\n",
    "llm = ChatOpenAI(model=\"gpt-4o\")"
   ],
   "id": "b19f6ec0b03f5919",
   "outputs": [],
   "execution_count": 7
  },
  {
   "metadata": {
    "ExecuteTime": {
     "end_time": "2025-07-08T22:33:09.068756Z",
     "start_time": "2025-07-08T22:33:09.066253Z"
    }
   },
   "cell_type": "code",
   "source": [
    "def generate(state: AgentState):\n",
    "    context = state['context']\n",
    "    query = state['query']\n",
    "    rag_chain = generate_prompt | llm\n",
    "    response = rag_chain.invoke({'context': context, 'question': query})\n",
    "    return {'answer': response}"
   ],
   "id": "b05f0d2cc69cbdb5",
   "outputs": [],
   "execution_count": 8
  },
  {
   "metadata": {
    "ExecuteTime": {
     "end_time": "2025-07-08T22:33:10.638063Z",
     "start_time": "2025-07-08T22:33:09.116944Z"
    }
   },
   "cell_type": "code",
   "source": [
    "# Create a LANGSMITH_API_KEY in Settings > API Keys\n",
    "from langsmith import Client\n",
    "client = Client()\n",
    "relevance_doc_prompt = client.pull_prompt(\"langchain-ai/rag-document-relevance\", include_model=True)"
   ],
   "id": "f0c98c87ccce61ed",
   "outputs": [],
   "execution_count": 9
  },
  {
   "metadata": {
    "ExecuteTime": {
     "end_time": "2025-07-08T22:33:10.653303Z",
     "start_time": "2025-07-08T22:33:10.649860Z"
    }
   },
   "cell_type": "code",
   "source": [
    "from typing import Literal\n",
    "\n",
    "def check_doc_relevance(state: AgentState) -> Literal['relevant', 'irrelevant']:\n",
    "    query = state['query']\n",
    "    context = state['context']\n",
    "    relevance_doc_chain = relevance_doc_prompt | llm\n",
    "    response = relevance_doc_chain.invoke({'question': query, 'documents': context})\n",
    "    if response['Score'] == 1:\n",
    "        return 'relevant'\n",
    "\n",
    "    return 'irrelevant'"
   ],
   "id": "62e583bcfe1ec940",
   "outputs": [],
   "execution_count": 10
  },
  {
   "metadata": {
    "ExecuteTime": {
     "end_time": "2025-07-08T22:33:10.706265Z",
     "start_time": "2025-07-08T22:33:10.699962Z"
    }
   },
   "cell_type": "code",
   "source": [
    "from langchain_core.prompts import PromptTemplate\n",
    "from langchain_core.output_parsers import StrOutputParser\n",
    "\n",
    "dictionary = ['LLM -> 생성형AI', '돈 관련 단위 -> 달러', '엔스로픽 -> 엔스롭픽']\n",
    "\n",
    "rewrite_prompt = PromptTemplate.from_template(f\"\"\"\n",
    "사용자의 질문을 보고 우리의 사전을 참고해서 사용자의 질문을 변경해주세요\n",
    "사전 : {dictionary}\n",
    "질문 : {{query}}\n",
    "                                              \"\"\")\n",
    "\n",
    "def rewrite(state: AgentState):\n",
    "    query = state['query']\n",
    "    rewrite_chain = rewrite_prompt | llm | StrOutputParser()\n",
    "\n",
    "    response = rewrite_chain.invoke({'query': query})\n",
    "    return {'query': response}"
   ],
   "id": "45faafba6fdb5645",
   "outputs": [],
   "execution_count": 11
  },
  {
   "metadata": {
    "ExecuteTime": {
     "end_time": "2025-07-08T22:33:11.489026Z",
     "start_time": "2025-07-08T22:33:10.752062Z"
    }
   },
   "cell_type": "code",
   "source": [
    "# Create a LANGSMITH_API_KEY in Settings > API Keys\n",
    "from langsmith import Client\n",
    "from langchain_core.prompts import PromptTemplate\n",
    "client = Client()\n",
    "hallucination_promt = client.pull_prompt(\"langchain-ai/rag-answer-hallucination\", include_model=True)\n",
    "\n",
    "\n",
    "def check_hallucination(state: AgentState) -> Literal['hallucinated', 'not hallucinated']:\n",
    "    answer = state['answer']\n",
    "    context = state['context']\n",
    "    print(f'context == {context}')\n",
    "    hallucination_chain = hallucination_promt | llm\n",
    "    response = hallucination_chain.invoke({'student_answer': answer, 'documents': context})\n",
    "    print(f'hallucination response : {response}')\n",
    "    if response['Score'] == 1:\n",
    "        return 'not hallucinated'\n",
    "\n",
    "    return 'hallucinated'"
   ],
   "id": "d8f704aebee669d6",
   "outputs": [],
   "execution_count": 12
  },
  {
   "metadata": {
    "ExecuteTime": {
     "end_time": "2025-07-08T22:33:15.871494Z",
     "start_time": "2025-07-08T22:33:11.499142Z"
    }
   },
   "cell_type": "code",
   "source": [
    "query = '구글이 엔스로픽에 투자한 금액은 얼마인가요?'\n",
    "context = retriever.invoke(query)\n",
    "\n",
    "generate_state = {'query': query, 'context': context}\n",
    "answer = generate(generate_state)\n",
    "\n",
    "print(f'answer == {answer}')\n",
    "\n",
    "hallucination_state = {'answer': answer, 'context': context}\n",
    "check_result = check_hallucination(hallucination_state)"
   ],
   "id": "16c8101850966df3",
   "outputs": [
    {
     "name": "stdout",
     "output_type": "stream",
     "text": [
      "answer == {'answer': AIMessage(content='구글은 앤스로픽에 최대 20억 달러를 투자하기로 합의했으며, 이 중 5억 달러를 우선 투자했습니다.', additional_kwargs={'refusal': None}, response_metadata={'token_usage': {'completion_tokens': 36, 'prompt_tokens': 2127, 'total_tokens': 2163, 'completion_tokens_details': {'accepted_prediction_tokens': 0, 'audio_tokens': 0, 'reasoning_tokens': 0, 'rejected_prediction_tokens': 0}, 'prompt_tokens_details': {'audio_tokens': 0, 'cached_tokens': 2048}}, 'model_name': 'gpt-4o-2024-08-06', 'system_fingerprint': 'fp_a288987b44', 'id': 'chatcmpl-BrBA9FnhCb5o2OGe60gmxhSfg6Hnq', 'service_tier': 'default', 'finish_reason': 'stop', 'logprobs': None}, id='run--8369c977-22ba-45d4-a0bf-6e64e2bd7bca-0', usage_metadata={'input_tokens': 2127, 'output_tokens': 36, 'total_tokens': 2163, 'input_token_details': {'audio': 0, 'cache_read': 2048}, 'output_token_details': {'audio': 0, 'reasoning': 0}})}\n",
      "context == [Document(id='8087dc56-3317-4651-a21f-3f58412e848e', metadata={'source': './documents/brief_2023년12월호_f.txt'}, page_content=\"아마존과 구글의 앤스롭픽 투자 앞서, 마이크로소프트는 차세대 AI 모델의 대표 주자인 오픈AI와 협력 확대\\n\\n마이크로소프트는 오픈AI에 앞서 투자한 30억 달러에 대해 2023년 1월 추가로 100억 달러를 투자하기로 하면서 오픈AI의 지분 49%를 확보했으며, 오픈AI는 마이크로소프트의 애저(Azure) 클라우드 플랫폼을 사용해 AI 모델을 훈련\\n\\n구글, 클라우드 경쟁력 강화를 위해 생성 AI 투자 확대\\n\\n구글은 수익성이 높은 클라우드 컴퓨팅 시장에서 아마존과 마이크로소프트를 따라잡고자 생성 AI를 통합한 기업 고객의 클라우드 지출 확대를 위해 AI 투자를 지속\\n구글은 앤스롭픽 외에도 동영상 제작 도구를 개발하는 런웨이(Runway)와 오픈소스 소프트웨어 기업 허깅 페이스(Hugging Face)에도 투자\\n구글은 첫 챗GPT의 기반 기술과 직접 경쟁할 수 있는 차세대 LLM '제미니( Gemini)'를 포함한 자율 시스템 개발에도 수십억 달러를 투자했으며, 2024년 제미니를 출시할 계획\\n\\n\\n출처 : The Wall Street Journal, Google Commits $2 Billion in Funding to AI Startup Anthropic, 2023.10.27. Bloomberg, AI Startup Anthropic to Use Google Chips in Expanded Partnership, 2023.11.09.\\n\\nIDC, 2027년 AI 소프트웨어 매출 2,500억 달러 돌파 전망\\nKEY Contents\\n\\nIDC에 따르면 AI 소프트웨어 시장은 2027년 2,510억 달러로 성장하며, 생성 AI 플랫폼과 애플리케이션은 2027년까지 283억 달러의 매출을 창출할 전망\\n2023년 기준 AI 소프트웨어 매출의 3분의 1을 차지하는 최대 시장인 AI 애플리케이션은 2027년까지 21.1%의 연평균 성장률을 기록할 전망\\n\\n기업들의 AI 투자 증가에 힘입어 AI 소프트웨어 시장 급성장 예상\"), Document(id='8c3401f5-93b5-4291-a4aa-d2c6ccfb5266', metadata={'source': './documents/brief_2023년12월호_f.txt'}, page_content=\"언어, 코드, 이미지의 3개 모델로 구성된 삼성 가우스, 온디바이스 작동 지원\\n\\n삼성전자가 2023년 11월 8일 열린 ‘삼성 AI 포럼 2023’ 행사에서 자체 개발한 생성 AI 모델 ‘삼성 가우스’를 최초 공개\\n정규분포 이론을 정립한 천재 수학자 가우스(Gauss)의 이름을 본따 삼성 가우스는 다양한 상황에 최적화된 크기의 모델 선택이 가능\\n삼성 가우스는 라이선스나 개인정보를 침해하지 않는 안전한 데이터를 통해 학습되었으며, 온디바이스에서 작동하도록 설계되도 외부로 사용자의 정보가 유출되지 않는 장점을 보유\\n\\n삼성전자는 삼성 가우스를 활용한 온디바이스 기술을 소개했으며, 생성 AI 모델을 다양한 제품에 단계적으로 탑재할 계획\\n\\n\\n삼성 가우스는 스크립트를 생성하는 언어모델 스코드를 생성하는 코드 모델 이미지들을 생성하는 이미지 모델의 3개 모델로 구성\\n\\n언어 모델은 클라우드와 온디바이스를 대상으로 다양한 모델로 구성되며, 이메일 작성, 문서 요약, 번역 업무 처리를 지원\\n코드 모델 기반의 코딩 어시스턴트 ‘코다이(code.i)’는 대화형 인터페이스로 서비스를 제공하며, 사용자 소프트웨어 개발에 최적화\\n이미지 모델은 창의적인 이미지를 생성하고 기존 이미지를 원하는대로 바꿀 수 있도록 지원하며, 저해상도의 이미지를 고해상도로 전환도 지원\\n\\n참고: 삼성전자, ‘삼성 AI 포럼’서 자체 개발 생성형 AI ‘삼성 가우스’ 공개, 2023.11.08.\\n삼성전자, ‘삼성 개발자 컨퍼런스 코리아 2023’ 개최, 2023.11.14.\\nTechRepublic, Samsung Gauss: Samsung Research Reveals Generative AI, 2023.11.08.\\n구글, 앤스롭픽에 20억 달러 투자로 생선 AI 협력 강화\\nKEY Contents\\n\\n구글이 앤스롭픽에 최대 20억 달러 투자의 합의하고 5억 달러를 우선 투자했으며, 앤스롭픽은 구글 클라우드 서비스 사용 계약도 체결\\n3대 클라우드 사업자인 구글, 마이크로소프트, 아마존은 차세대 AI 모델인 기업인 앤스롭픽 및 오픈AI와 협력을 확대하는 추세\\n\\n구글, 앤스롭픽에 최대 20억 달러 투자 합의 및 클라우드 서비스 제공\\n\\n구글은 2023년 10월 27일 앤스롭픽에 최대 20억 달러를 투자하기로 합의했으며, 이 중 5억 달러를 우선 투자하고 향후 15억 달러를 추가로 투자할 방침\\n구글은 2023년 2월 앤스롭픽에 이미 5억 5,000만 달러를 투자한 바 있으며, 아마존도 지난 9월 앤스롭픽에 최대 40억 달러의 투자 계획을 공개\\n한편, 2023년 11월 블룸버그 보도에 따르면 앤스롭픽은 구글의 클라우드 서비스 사용을 위해 4년간 30억 달러 규모의 계약을 체결\\n오픈AI 창업자 고놈이 일리노이주립대 다리오 아모데이(Dario Amodei)와 다니엘라 아모데이(Daniela Amodei) 남매가 2021년 설립한 앤스롭픽은 챗GPT의 대답인 '클로드(Claude)' LLM을 개발\\n\\n아마존과 구글의 앤스롭픽 투자 앞서, 마이크로소프트는 차세대 AI 모델의 대표 주자인 오픈AI와 협력 확대\"), Document(id='09964d55-41c0-4798-acc7-e9a7a47b59d6', metadata={'source': './documents/brief_2023년12월호_f.txt'}, page_content='아마존과 구글의 앤스프릭 투자에 앞서, 마이크로소프트는 차세대 AI 모델의 대표 주자인 오픈AI와 협력 확대\\n\\n마이크로소프트는 오픈AI에 앞서 투자한 30억 달러에 대해 2023년 1월 추가로 100억 달러를 투자하기로 하면서 오픈AI의 지분 49%를 확보했으며, 오픈AI는 마이크로소프트의 애저(Azure) 클라우드 플랫폼을 사용해 AI 모델을 훈련\\n\\n구글, 클라우드 경쟁력 강화를 위해 생성 AI 투자 확대\\n\\n구글은 수익성이 높은 클라우드 컴퓨팅 시장에서 아마존과 마이크로소프트를 따라잡고자 생성 AI를 통한 기업 고객의 클라우드 지출 확대를 위해 AI 투자 지속\\n구글은 앤스프릭 외에도 동영상 제작 도구를 개발하는 런웨이(Runway)와 오픈소스 소프트웨어 기업 허깅페이스(Hugging Face)에도 투자\\n구글은 첫 GPT의 기반 기술과 직접 경쟁할 수 있는 차세대 LLM ‘제미니(Gemini)’를 포함한 자체 시스템 개발에도 수십억 달러를 투자했으며, 2024년 제미니를 출시할 계획\\n\\n출처: The Wall Street Journal, Google Commits $2 Billion in Funding to AI Startup Anthropic, 2023.10.27. Bloomberg, AI Startup Anthropic to Use Google Chips in Expanded Partnership, 2023.11.09.\\nIDC, 2027년 AI 소프트웨어 매출 2,500억 달러 돌파 전망\\nKEY Contents\\n\\nIDC의 예측에 의하면 AI 소프트웨어 시장은 2027년 2,510억 달러로 성장하며, 생성 AI 플랫폼과 애플리케이션은 2027년까지 283억 달러의 매출을 창출할 전망\\n2023년 기준 AI 소프트웨어 매출의 3분기 1위를 차지하는 최대 시장인 AI 애플리케이션은 2027년까지 21.1%의 연평균 성장률을 기록할 전망\\n\\n기업들의 AI 투자 증가에 힘입어 AI 소프트웨어 시장 급성장 예상')]\n",
      "hallucination response : {'Score': 1, 'Explanation': \"The student's answer is completely grounded in the facts provided. The facts clearly state that Google agreed to invest up to $2 billion in Anthropic, with $500 million already invested initially, which matches the student's answer exactly. The answer does not introduce any hallucinations or information outside the scope of the provided documents.\"}\n"
     ]
    }
   ],
   "execution_count": 13
  },
  {
   "metadata": {
    "ExecuteTime": {
     "end_time": "2025-07-08T22:33:16.374911Z",
     "start_time": "2025-07-08T22:33:15.881914Z"
    }
   },
   "cell_type": "code",
   "source": [
    "# Create a LANGSMITH_API_KEY in Settings > API Keys\n",
    "from langsmith import Client\n",
    "helpfulness_prompt = client.pull_prompt(\"langchain-ai/rag-answer-helpfulness\", include_model=True)\n",
    "\n",
    "def check_helpfulness_grader(state: AgentState) -> str:\n",
    "    \"\"\"\n",
    "    사용자의 질문에 기반하여 생성된 답변의 유용성을 평가합니다.\n",
    "\n",
    "    Args:\n",
    "        state (AgentState): 사용자의 질문과 생성된 답변을 포함한 에이전트의 현재 state.\n",
    "\n",
    "    Returns:\n",
    "        str: 답변이 유용하다고 판단되면 'helpful', 그렇지 않으면 'unhelpful'을 반환합니다.\n",
    "    \"\"\"\n",
    "    # state에서 질문과 답변을 추출합니다\n",
    "    query = state['query']\n",
    "    answer = state['answer']\n",
    "\n",
    "    # 답변의 유용성을 평가하기 위한 체인을 생성합니다\n",
    "    helpfulness_chain = helpfulness_prompt | llm\n",
    "\n",
    "    # 질문과 답변으로 체인을 호출합니다\n",
    "    response = helpfulness_chain.invoke({'question': query, 'student_answer': answer})\n",
    "\n",
    "    # 점수가 1이면 'helpful'을 반환하고, 그렇지 않으면 'unhelpful'을 반환합니다\n",
    "    if response['Score'] == 1:\n",
    "        return 'helpful'\n",
    "\n",
    "    return 'unhelpful'\n",
    "\n",
    "\n",
    "# 노드는 state를 반환해야하기 때문에 아래와 같이 state만 반환하도록 만들었다.\n",
    "def check_helpfulness(state: AgentState) -> AgentState:\n",
    "    \"\"\"\n",
    "    유용성을 확인하는 자리 표시자 함수입니다.\n",
    "    graph에서 conditional_edge를 연속으로 사용하지 않고 node를 추가해\n",
    "    가독성을 높이기 위해 사용합니다\n",
    "\n",
    "    Args:\n",
    "        state (AgentState): 에이전트의 현재 state.\n",
    "\n",
    "    Returns:\n",
    "        AgentState: 변경되지 않은 state를 반환합니다.\n",
    "    \"\"\"\n",
    "    # 이 함수는 현재 아무 작업도 수행하지 않으며 state를 그대로 반환합니다\n",
    "    return state\n"
   ],
   "id": "23703647c8eec21d",
   "outputs": [],
   "execution_count": 14
  },
  {
   "metadata": {
    "ExecuteTime": {
     "end_time": "2025-07-08T22:33:19.209006Z",
     "start_time": "2025-07-08T22:33:16.388621Z"
    }
   },
   "cell_type": "code",
   "source": [
    "query = '구글이 엔스로픽에 투자한 금액은 얼마인가요?'\n",
    "context = retriever.invoke(query)\n",
    "\n",
    "generate_state = {'query': query, 'context': context}\n",
    "answer = generate(generate_state)\n",
    "\n",
    "print(f'answer == {answer}')\n",
    "\n",
    "helpfulness_state = {'answer': answer, 'query': query}\n",
    "check_helpfulness(helpfulness_state)"
   ],
   "id": "d61fe56b4692d6fe",
   "outputs": [
    {
     "name": "stdout",
     "output_type": "stream",
     "text": [
      "answer == {'answer': AIMessage(content='구글은 앤스로픽에 최대 20억 달러를 투자하기로 합의했으며, 이 중 5억 달러를 우선 투자했습니다.', additional_kwargs={'refusal': None}, response_metadata={'token_usage': {'completion_tokens': 36, 'prompt_tokens': 2127, 'total_tokens': 2163, 'completion_tokens_details': {'accepted_prediction_tokens': 0, 'audio_tokens': 0, 'reasoning_tokens': 0, 'rejected_prediction_tokens': 0}, 'prompt_tokens_details': {'audio_tokens': 0, 'cached_tokens': 2048}}, 'model_name': 'gpt-4o-2024-08-06', 'system_fingerprint': 'fp_a288987b44', 'id': 'chatcmpl-BrBAE6rV5FRYECEMm3kWurMQ8SyEl', 'service_tier': 'default', 'finish_reason': 'stop', 'logprobs': None}, id='run--5ff2f120-c4c1-40a2-9565-c687965056a3-0', usage_metadata={'input_tokens': 2127, 'output_tokens': 36, 'total_tokens': 2163, 'input_token_details': {'audio': 0, 'cache_read': 2048}, 'output_token_details': {'audio': 0, 'reasoning': 0}})}\n"
     ]
    },
    {
     "data": {
      "text/plain": [
       "{'answer': {'answer': AIMessage(content='구글은 앤스로픽에 최대 20억 달러를 투자하기로 합의했으며, 이 중 5억 달러를 우선 투자했습니다.', additional_kwargs={'refusal': None}, response_metadata={'token_usage': {'completion_tokens': 36, 'prompt_tokens': 2127, 'total_tokens': 2163, 'completion_tokens_details': {'accepted_prediction_tokens': 0, 'audio_tokens': 0, 'reasoning_tokens': 0, 'rejected_prediction_tokens': 0}, 'prompt_tokens_details': {'audio_tokens': 0, 'cached_tokens': 2048}}, 'model_name': 'gpt-4o-2024-08-06', 'system_fingerprint': 'fp_a288987b44', 'id': 'chatcmpl-BrBAE6rV5FRYECEMm3kWurMQ8SyEl', 'service_tier': 'default', 'finish_reason': 'stop', 'logprobs': None}, id='run--5ff2f120-c4c1-40a2-9565-c687965056a3-0', usage_metadata={'input_tokens': 2127, 'output_tokens': 36, 'total_tokens': 2163, 'input_token_details': {'audio': 0, 'cache_read': 2048}, 'output_token_details': {'audio': 0, 'reasoning': 0}})},\n",
       " 'query': '구글이 엔스로픽에 투자한 금액은 얼마인가요?'}"
      ]
     },
     "execution_count": 15,
     "metadata": {},
     "output_type": "execute_result"
    }
   ],
   "execution_count": 15
  },
  {
   "metadata": {
    "ExecuteTime": {
     "end_time": "2025-07-08T22:33:19.267919Z",
     "start_time": "2025-07-08T22:33:19.239604Z"
    }
   },
   "cell_type": "code",
   "source": [
    "from langgraph.graph import StateGraph\n",
    "\n",
    "graph_builder = StateGraph(AgentState)"
   ],
   "id": "8bea23166ed12fc2",
   "outputs": [],
   "execution_count": 16
  },
  {
   "metadata": {
    "ExecuteTime": {
     "end_time": "2025-07-08T22:33:19.296998Z",
     "start_time": "2025-07-08T22:33:19.292919Z"
    }
   },
   "cell_type": "code",
   "source": [
    "graph_builder.add_node('retrieve', retrieve)\n",
    "graph_builder.add_node('generate', generate)\n",
    "graph_builder.add_node('rewrite', rewrite)\n",
    "graph_builder.add_node('check_helpfulness', check_helpfulness)"
   ],
   "id": "889b9711dd46f390",
   "outputs": [
    {
     "data": {
      "text/plain": [
       "<langgraph.graph.state.StateGraph at 0x7facd8684c50>"
      ]
     },
     "execution_count": 17,
     "metadata": {},
     "output_type": "execute_result"
    }
   ],
   "execution_count": 17
  },
  {
   "metadata": {
    "ExecuteTime": {
     "end_time": "2025-07-08T22:33:19.354557Z",
     "start_time": "2025-07-08T22:33:19.348737Z"
    }
   },
   "cell_type": "code",
   "source": [
    "from langgraph.graph import START, END\n",
    "\n",
    "graph_builder.add_edge(START, 'retrieve')\n",
    "graph_builder.add_conditional_edges(\n",
    "    'retrieve',\n",
    "    check_doc_relevance,\n",
    "    {\n",
    "        'relevant': 'generate',\n",
    "        'irrelevant': END\n",
    "    }\n",
    ")\n",
    "graph_builder.add_conditional_edges(\n",
    "    'generate',\n",
    "    check_hallucination,\n",
    "    {\n",
    "        'not hallucinated': 'check_helpfulness',\n",
    "        'hallucinated': 'generate'\n",
    "    }\n",
    ")\n",
    "\n",
    "graph_builder.add_conditional_edges(\n",
    "    'check_helpfulness',\n",
    "    check_helpfulness_grader,\n",
    "    {\n",
    "        'helpful': END,\n",
    "        'unhelpful': 'rewrite'\n",
    "    }\n",
    ")\n",
    "graph_builder.add_edge('rewrite', 'retrieve')"
   ],
   "id": "be94820f6d28e73d",
   "outputs": [
    {
     "data": {
      "text/plain": [
       "<langgraph.graph.state.StateGraph at 0x7facd8684c50>"
      ]
     },
     "execution_count": 18,
     "metadata": {},
     "output_type": "execute_result"
    }
   ],
   "execution_count": 18
  },
  {
   "metadata": {
    "ExecuteTime": {
     "end_time": "2025-07-08T22:33:19.408669Z",
     "start_time": "2025-07-08T22:33:19.404336Z"
    }
   },
   "cell_type": "code",
   "source": "graph = graph_builder.compile()",
   "id": "b5392abfd1fc7e95",
   "outputs": [],
   "execution_count": 19
  },
  {
   "metadata": {
    "ExecuteTime": {
     "end_time": "2025-07-08T22:33:19.649908Z",
     "start_time": "2025-07-08T22:33:19.463539Z"
    }
   },
   "cell_type": "code",
   "source": [
    "from IPython.display import Image, display\n",
    "\n",
    "display(Image(graph.get_graph().draw_mermaid_png()))"
   ],
   "id": "5c57c6ab6aeb2759",
   "outputs": [
    {
     "data": {
      "image/png": "[encoded data removed]",
      "text/plain": [
       "<IPython.core.display.Image object>"
      ]
     },
     "metadata": {},
     "output_type": "display_data"
    }
   ],
   "execution_count": 20
  },
  {
   "metadata": {
    "ExecuteTime": {
     "end_time": "2025-07-08T22:33:29.078515Z",
     "start_time": "2025-07-08T22:33:19.663724Z"
    }
   },
   "cell_type": "code",
   "source": [
    "initial_state = {'query': '구글이 엔스로픽에 투자한 금액은 얼마인가요?'}\n",
    "graph.invoke(initial_state)"
   ],
   "id": "31090c6d61e29a6b",
   "outputs": [
    {
     "name": "stdout",
     "output_type": "stream",
     "text": [
      "context == [Document(id='8087dc56-3317-4651-a21f-3f58412e848e', metadata={'source': './documents/brief_2023년12월호_f.txt'}, page_content=\"아마존과 구글의 앤스롭픽 투자 앞서, 마이크로소프트는 차세대 AI 모델의 대표 주자인 오픈AI와 협력 확대\\n\\n마이크로소프트는 오픈AI에 앞서 투자한 30억 달러에 대해 2023년 1월 추가로 100억 달러를 투자하기로 하면서 오픈AI의 지분 49%를 확보했으며, 오픈AI는 마이크로소프트의 애저(Azure) 클라우드 플랫폼을 사용해 AI 모델을 훈련\\n\\n구글, 클라우드 경쟁력 강화를 위해 생성 AI 투자 확대\\n\\n구글은 수익성이 높은 클라우드 컴퓨팅 시장에서 아마존과 마이크로소프트를 따라잡고자 생성 AI를 통합한 기업 고객의 클라우드 지출 확대를 위해 AI 투자를 지속\\n구글은 앤스롭픽 외에도 동영상 제작 도구를 개발하는 런웨이(Runway)와 오픈소스 소프트웨어 기업 허깅 페이스(Hugging Face)에도 투자\\n구글은 첫 챗GPT의 기반 기술과 직접 경쟁할 수 있는 차세대 LLM '제미니( Gemini)'를 포함한 자율 시스템 개발에도 수십억 달러를 투자했으며, 2024년 제미니를 출시할 계획\\n\\n\\n출처 : The Wall Street Journal, Google Commits $2 Billion in Funding to AI Startup Anthropic, 2023.10.27. Bloomberg, AI Startup Anthropic to Use Google Chips in Expanded Partnership, 2023.11.09.\\n\\nIDC, 2027년 AI 소프트웨어 매출 2,500억 달러 돌파 전망\\nKEY Contents\\n\\nIDC에 따르면 AI 소프트웨어 시장은 2027년 2,510억 달러로 성장하며, 생성 AI 플랫폼과 애플리케이션은 2027년까지 283억 달러의 매출을 창출할 전망\\n2023년 기준 AI 소프트웨어 매출의 3분의 1을 차지하는 최대 시장인 AI 애플리케이션은 2027년까지 21.1%의 연평균 성장률을 기록할 전망\\n\\n기업들의 AI 투자 증가에 힘입어 AI 소프트웨어 시장 급성장 예상\"), Document(id='8c3401f5-93b5-4291-a4aa-d2c6ccfb5266', metadata={'source': './documents/brief_2023년12월호_f.txt'}, page_content=\"언어, 코드, 이미지의 3개 모델로 구성된 삼성 가우스, 온디바이스 작동 지원\\n\\n삼성전자가 2023년 11월 8일 열린 ‘삼성 AI 포럼 2023’ 행사에서 자체 개발한 생성 AI 모델 ‘삼성 가우스’를 최초 공개\\n정규분포 이론을 정립한 천재 수학자 가우스(Gauss)의 이름을 본따 삼성 가우스는 다양한 상황에 최적화된 크기의 모델 선택이 가능\\n삼성 가우스는 라이선스나 개인정보를 침해하지 않는 안전한 데이터를 통해 학습되었으며, 온디바이스에서 작동하도록 설계되도 외부로 사용자의 정보가 유출되지 않는 장점을 보유\\n\\n삼성전자는 삼성 가우스를 활용한 온디바이스 기술을 소개했으며, 생성 AI 모델을 다양한 제품에 단계적으로 탑재할 계획\\n\\n\\n삼성 가우스는 스크립트를 생성하는 언어모델 스코드를 생성하는 코드 모델 이미지들을 생성하는 이미지 모델의 3개 모델로 구성\\n\\n언어 모델은 클라우드와 온디바이스를 대상으로 다양한 모델로 구성되며, 이메일 작성, 문서 요약, 번역 업무 처리를 지원\\n코드 모델 기반의 코딩 어시스턴트 ‘코다이(code.i)’는 대화형 인터페이스로 서비스를 제공하며, 사용자 소프트웨어 개발에 최적화\\n이미지 모델은 창의적인 이미지를 생성하고 기존 이미지를 원하는대로 바꿀 수 있도록 지원하며, 저해상도의 이미지를 고해상도로 전환도 지원\\n\\n참고: 삼성전자, ‘삼성 AI 포럼’서 자체 개발 생성형 AI ‘삼성 가우스’ 공개, 2023.11.08.\\n삼성전자, ‘삼성 개발자 컨퍼런스 코리아 2023’ 개최, 2023.11.14.\\nTechRepublic, Samsung Gauss: Samsung Research Reveals Generative AI, 2023.11.08.\\n구글, 앤스롭픽에 20억 달러 투자로 생선 AI 협력 강화\\nKEY Contents\\n\\n구글이 앤스롭픽에 최대 20억 달러 투자의 합의하고 5억 달러를 우선 투자했으며, 앤스롭픽은 구글 클라우드 서비스 사용 계약도 체결\\n3대 클라우드 사업자인 구글, 마이크로소프트, 아마존은 차세대 AI 모델인 기업인 앤스롭픽 및 오픈AI와 협력을 확대하는 추세\\n\\n구글, 앤스롭픽에 최대 20억 달러 투자 합의 및 클라우드 서비스 제공\\n\\n구글은 2023년 10월 27일 앤스롭픽에 최대 20억 달러를 투자하기로 합의했으며, 이 중 5억 달러를 우선 투자하고 향후 15억 달러를 추가로 투자할 방침\\n구글은 2023년 2월 앤스롭픽에 이미 5억 5,000만 달러를 투자한 바 있으며, 아마존도 지난 9월 앤스롭픽에 최대 40억 달러의 투자 계획을 공개\\n한편, 2023년 11월 블룸버그 보도에 따르면 앤스롭픽은 구글의 클라우드 서비스 사용을 위해 4년간 30억 달러 규모의 계약을 체결\\n오픈AI 창업자 고놈이 일리노이주립대 다리오 아모데이(Dario Amodei)와 다니엘라 아모데이(Daniela Amodei) 남매가 2021년 설립한 앤스롭픽은 챗GPT의 대답인 '클로드(Claude)' LLM을 개발\\n\\n아마존과 구글의 앤스롭픽 투자 앞서, 마이크로소프트는 차세대 AI 모델의 대표 주자인 오픈AI와 협력 확대\"), Document(id='09964d55-41c0-4798-acc7-e9a7a47b59d6', metadata={'source': './documents/brief_2023년12월호_f.txt'}, page_content='아마존과 구글의 앤스프릭 투자에 앞서, 마이크로소프트는 차세대 AI 모델의 대표 주자인 오픈AI와 협력 확대\\n\\n마이크로소프트는 오픈AI에 앞서 투자한 30억 달러에 대해 2023년 1월 추가로 100억 달러를 투자하기로 하면서 오픈AI의 지분 49%를 확보했으며, 오픈AI는 마이크로소프트의 애저(Azure) 클라우드 플랫폼을 사용해 AI 모델을 훈련\\n\\n구글, 클라우드 경쟁력 강화를 위해 생성 AI 투자 확대\\n\\n구글은 수익성이 높은 클라우드 컴퓨팅 시장에서 아마존과 마이크로소프트를 따라잡고자 생성 AI를 통한 기업 고객의 클라우드 지출 확대를 위해 AI 투자 지속\\n구글은 앤스프릭 외에도 동영상 제작 도구를 개발하는 런웨이(Runway)와 오픈소스 소프트웨어 기업 허깅페이스(Hugging Face)에도 투자\\n구글은 첫 GPT의 기반 기술과 직접 경쟁할 수 있는 차세대 LLM ‘제미니(Gemini)’를 포함한 자체 시스템 개발에도 수십억 달러를 투자했으며, 2024년 제미니를 출시할 계획\\n\\n출처: The Wall Street Journal, Google Commits $2 Billion in Funding to AI Startup Anthropic, 2023.10.27. Bloomberg, AI Startup Anthropic to Use Google Chips in Expanded Partnership, 2023.11.09.\\nIDC, 2027년 AI 소프트웨어 매출 2,500억 달러 돌파 전망\\nKEY Contents\\n\\nIDC의 예측에 의하면 AI 소프트웨어 시장은 2027년 2,510억 달러로 성장하며, 생성 AI 플랫폼과 애플리케이션은 2027년까지 283억 달러의 매출을 창출할 전망\\n2023년 기준 AI 소프트웨어 매출의 3분기 1위를 차지하는 최대 시장인 AI 애플리케이션은 2027년까지 21.1%의 연평균 성장률을 기록할 전망\\n\\n기업들의 AI 투자 증가에 힘입어 AI 소프트웨어 시장 급성장 예상')]\n",
      "hallucination response : {'Score': 1, 'Explanation': \"The student's answer is well grounded in the facts provided. According to the documents, Google indeed agreed to invest up to $2 billion in Anthropic, with $500 million being the initial commitment. The student's response precisely reflects this information without introducing any new, hallucinated details. Therefore, the answer fully meets the grading criteria and earns a score of 1.\"}\n"
     ]
    },
    {
     "data": {
      "text/plain": [
       "{'query': '구글이 엔스로픽에 투자한 금액은 얼마인가요?',\n",
       " 'context': [Document(id='8087dc56-3317-4651-a21f-3f58412e848e', metadata={'source': './documents/brief_2023년12월호_f.txt'}, page_content=\"아마존과 구글의 앤스롭픽 투자 앞서, 마이크로소프트는 차세대 AI 모델의 대표 주자인 오픈AI와 협력 확대\\n\\n마이크로소프트는 오픈AI에 앞서 투자한 30억 달러에 대해 2023년 1월 추가로 100억 달러를 투자하기로 하면서 오픈AI의 지분 49%를 확보했으며, 오픈AI는 마이크로소프트의 애저(Azure) 클라우드 플랫폼을 사용해 AI 모델을 훈련\\n\\n구글, 클라우드 경쟁력 강화를 위해 생성 AI 투자 확대\\n\\n구글은 수익성이 높은 클라우드 컴퓨팅 시장에서 아마존과 마이크로소프트를 따라잡고자 생성 AI를 통합한 기업 고객의 클라우드 지출 확대를 위해 AI 투자를 지속\\n구글은 앤스롭픽 외에도 동영상 제작 도구를 개발하는 런웨이(Runway)와 오픈소스 소프트웨어 기업 허깅 페이스(Hugging Face)에도 투자\\n구글은 첫 챗GPT의 기반 기술과 직접 경쟁할 수 있는 차세대 LLM '제미니( Gemini)'를 포함한 자율 시스템 개발에도 수십억 달러를 투자했으며, 2024년 제미니를 출시할 계획\\n\\n\\n출처 : The Wall Street Journal, Google Commits $2 Billion in Funding to AI Startup Anthropic, 2023.10.27. Bloomberg, AI Startup Anthropic to Use Google Chips in Expanded Partnership, 2023.11.09.\\n\\nIDC, 2027년 AI 소프트웨어 매출 2,500억 달러 돌파 전망\\nKEY Contents\\n\\nIDC에 따르면 AI 소프트웨어 시장은 2027년 2,510억 달러로 성장하며, 생성 AI 플랫폼과 애플리케이션은 2027년까지 283억 달러의 매출을 창출할 전망\\n2023년 기준 AI 소프트웨어 매출의 3분의 1을 차지하는 최대 시장인 AI 애플리케이션은 2027년까지 21.1%의 연평균 성장률을 기록할 전망\\n\\n기업들의 AI 투자 증가에 힘입어 AI 소프트웨어 시장 급성장 예상\"),\n",
       "  Document(id='8c3401f5-93b5-4291-a4aa-d2c6ccfb5266', metadata={'source': './documents/brief_2023년12월호_f.txt'}, page_content=\"언어, 코드, 이미지의 3개 모델로 구성된 삼성 가우스, 온디바이스 작동 지원\\n\\n삼성전자가 2023년 11월 8일 열린 ‘삼성 AI 포럼 2023’ 행사에서 자체 개발한 생성 AI 모델 ‘삼성 가우스’를 최초 공개\\n정규분포 이론을 정립한 천재 수학자 가우스(Gauss)의 이름을 본따 삼성 가우스는 다양한 상황에 최적화된 크기의 모델 선택이 가능\\n삼성 가우스는 라이선스나 개인정보를 침해하지 않는 안전한 데이터를 통해 학습되었으며, 온디바이스에서 작동하도록 설계되도 외부로 사용자의 정보가 유출되지 않는 장점을 보유\\n\\n삼성전자는 삼성 가우스를 활용한 온디바이스 기술을 소개했으며, 생성 AI 모델을 다양한 제품에 단계적으로 탑재할 계획\\n\\n\\n삼성 가우스는 스크립트를 생성하는 언어모델 스코드를 생성하는 코드 모델 이미지들을 생성하는 이미지 모델의 3개 모델로 구성\\n\\n언어 모델은 클라우드와 온디바이스를 대상으로 다양한 모델로 구성되며, 이메일 작성, 문서 요약, 번역 업무 처리를 지원\\n코드 모델 기반의 코딩 어시스턴트 ‘코다이(code.i)’는 대화형 인터페이스로 서비스를 제공하며, 사용자 소프트웨어 개발에 최적화\\n이미지 모델은 창의적인 이미지를 생성하고 기존 이미지를 원하는대로 바꿀 수 있도록 지원하며, 저해상도의 이미지를 고해상도로 전환도 지원\\n\\n참고: 삼성전자, ‘삼성 AI 포럼’서 자체 개발 생성형 AI ‘삼성 가우스’ 공개, 2023.11.08.\\n삼성전자, ‘삼성 개발자 컨퍼런스 코리아 2023’ 개최, 2023.11.14.\\nTechRepublic, Samsung Gauss: Samsung Research Reveals Generative AI, 2023.11.08.\\n구글, 앤스롭픽에 20억 달러 투자로 생선 AI 협력 강화\\nKEY Contents\\n\\n구글이 앤스롭픽에 최대 20억 달러 투자의 합의하고 5억 달러를 우선 투자했으며, 앤스롭픽은 구글 클라우드 서비스 사용 계약도 체결\\n3대 클라우드 사업자인 구글, 마이크로소프트, 아마존은 차세대 AI 모델인 기업인 앤스롭픽 및 오픈AI와 협력을 확대하는 추세\\n\\n구글, 앤스롭픽에 최대 20억 달러 투자 합의 및 클라우드 서비스 제공\\n\\n구글은 2023년 10월 27일 앤스롭픽에 최대 20억 달러를 투자하기로 합의했으며, 이 중 5억 달러를 우선 투자하고 향후 15억 달러를 추가로 투자할 방침\\n구글은 2023년 2월 앤스롭픽에 이미 5억 5,000만 달러를 투자한 바 있으며, 아마존도 지난 9월 앤스롭픽에 최대 40억 달러의 투자 계획을 공개\\n한편, 2023년 11월 블룸버그 보도에 따르면 앤스롭픽은 구글의 클라우드 서비스 사용을 위해 4년간 30억 달러 규모의 계약을 체결\\n오픈AI 창업자 고놈이 일리노이주립대 다리오 아모데이(Dario Amodei)와 다니엘라 아모데이(Daniela Amodei) 남매가 2021년 설립한 앤스롭픽은 챗GPT의 대답인 '클로드(Claude)' LLM을 개발\\n\\n아마존과 구글의 앤스롭픽 투자 앞서, 마이크로소프트는 차세대 AI 모델의 대표 주자인 오픈AI와 협력 확대\"),\n",
       "  Document(id='09964d55-41c0-4798-acc7-e9a7a47b59d6', metadata={'source': './documents/brief_2023년12월호_f.txt'}, page_content='아마존과 구글의 앤스프릭 투자에 앞서, 마이크로소프트는 차세대 AI 모델의 대표 주자인 오픈AI와 협력 확대\\n\\n마이크로소프트는 오픈AI에 앞서 투자한 30억 달러에 대해 2023년 1월 추가로 100억 달러를 투자하기로 하면서 오픈AI의 지분 49%를 확보했으며, 오픈AI는 마이크로소프트의 애저(Azure) 클라우드 플랫폼을 사용해 AI 모델을 훈련\\n\\n구글, 클라우드 경쟁력 강화를 위해 생성 AI 투자 확대\\n\\n구글은 수익성이 높은 클라우드 컴퓨팅 시장에서 아마존과 마이크로소프트를 따라잡고자 생성 AI를 통한 기업 고객의 클라우드 지출 확대를 위해 AI 투자 지속\\n구글은 앤스프릭 외에도 동영상 제작 도구를 개발하는 런웨이(Runway)와 오픈소스 소프트웨어 기업 허깅페이스(Hugging Face)에도 투자\\n구글은 첫 GPT의 기반 기술과 직접 경쟁할 수 있는 차세대 LLM ‘제미니(Gemini)’를 포함한 자체 시스템 개발에도 수십억 달러를 투자했으며, 2024년 제미니를 출시할 계획\\n\\n출처: The Wall Street Journal, Google Commits $2 Billion in Funding to AI Startup Anthropic, 2023.10.27. Bloomberg, AI Startup Anthropic to Use Google Chips in Expanded Partnership, 2023.11.09.\\nIDC, 2027년 AI 소프트웨어 매출 2,500억 달러 돌파 전망\\nKEY Contents\\n\\nIDC의 예측에 의하면 AI 소프트웨어 시장은 2027년 2,510억 달러로 성장하며, 생성 AI 플랫폼과 애플리케이션은 2027년까지 283억 달러의 매출을 창출할 전망\\n2023년 기준 AI 소프트웨어 매출의 3분기 1위를 차지하는 최대 시장인 AI 애플리케이션은 2027년까지 21.1%의 연평균 성장률을 기록할 전망\\n\\n기업들의 AI 투자 증가에 힘입어 AI 소프트웨어 시장 급성장 예상')],\n",
       " 'answer': AIMessage(content='구글은 앤스로픽에 최대 20억 달러를 투자하기로 합의했으며, 이 중 5억 달러를 우선 투자했습니다.', additional_kwargs={'refusal': None}, response_metadata={'token_usage': {'completion_tokens': 36, 'prompt_tokens': 2127, 'total_tokens': 2163, 'completion_tokens_details': {'accepted_prediction_tokens': 0, 'audio_tokens': 0, 'reasoning_tokens': 0, 'rejected_prediction_tokens': 0}, 'prompt_tokens_details': {'audio_tokens': 0, 'cached_tokens': 2048}}, 'model_name': 'gpt-4o-2024-08-06', 'system_fingerprint': 'fp_a288987b44', 'id': 'chatcmpl-BrBALYHHKnXAoHniPRGJUTX0oc8Xy', 'service_tier': 'default', 'finish_reason': 'stop', 'logprobs': None}, id='run--c7c94d4b-862a-485c-907d-9a71adb94745-0', usage_metadata={'input_tokens': 2127, 'output_tokens': 36, 'total_tokens': 2163, 'input_token_details': {'audio': 0, 'cache_read': 2048}, 'output_token_details': {'audio': 0, 'reasoning': 0}})}"
      ]
     },
     "execution_count": 21,
     "metadata": {},
     "output_type": "execute_result"
    }
   ],
   "execution_count": 21
  }
 ],
 "metadata": {
  "kernelspec": {
   "display_name": "Python 3",
   "language": "python",
   "name": "python3"
  },
  "language_info": {
   "codemirror_mode": {
    "name": "ipython",
    "version": 2
   },
   "file_extension": ".py",
   "mimetype": "text/x-python",
   "name": "python",
   "nbconvert_exporter": "python",
   "pygments_lexer": "ipython2",
   "version": "2.7.6"
  }
 },
 "nbformat": 4,
 "nbformat_minor": 5
}
